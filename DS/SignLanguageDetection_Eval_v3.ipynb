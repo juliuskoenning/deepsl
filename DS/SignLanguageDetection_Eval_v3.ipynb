{
  "nbformat": 4,
  "nbformat_minor": 0,
  "metadata": {
    "colab": {
      "provenance": [],
      "gpuType": "T4"
    },
    "kernelspec": {
      "name": "python3",
      "display_name": "Python 3"
    },
    "language_info": {
      "name": "python"
    },
    "accelerator": "GPU"
  },
  "cells": [
    {
      "cell_type": "markdown",
      "metadata": {
        "id": "dzd-PoCH_MX2"
      },
      "source": [
        "# Projektrealisierung\n",
        "\n"
      ]
    },
    {
      "cell_type": "markdown",
      "source": [
        "## 0. Introduction"
      ],
      "metadata": {
        "id": "tag4DgWEuvd8"
      }
    },
    {
      "cell_type": "markdown",
      "source": [
        "**Aufgabe:**\n",
        "Erstellung einer Applikation mit Kamera Input, die Zeichensprache von nicht-Hörenden / nicht-Sprechenden Personen konvertiert und diese anderen Meeting-Teilnehmern als Untertitel ausgibt. Bereitstellung eines Frontends zu Demonstrationszwecken und einer API, um die Modelle in andere Applikationen wie Teams oder Discord zu integrieren."
      ],
      "metadata": {
        "id": "G51s64isuzLl"
      }
    },
    {
      "cell_type": "markdown",
      "source": [
        "This notebook is part of DeepSL, a project on the topic sign language translation for the module Projektrealisierung in course WWI20DSB at the Baden-Wuerttemberg Cooperative State University Mannheim.\n",
        "\n",
        "This notebook focuses on the detection part, its evaluation and the evaluation of the model combination."
      ],
      "metadata": {
        "id": "niZKQCxvKNL7"
      }
    },
    {
      "cell_type": "markdown",
      "metadata": {
        "id": "ZF2TD1BJuPSr"
      },
      "source": [
        "How to execute this notebook:\n",
        "1. Go to https://drive.google.com/file/d/1be8Cai-xqnSQKJQmnVxAuEFmm_xU1N9Z/view?usp=sharing (containing the zip file with the 100 glosses), then add a shortcut to this file in your drive so that it is integrated into your google drive\n",
        "2. Go to https://drive.google.com/file/d/1EIE3FUYi_hvIxAEqxaxxmrHlE1GDmcND/view?usp=sharing (containing the WASL100.json file), then add a shortcut to this file in your drive\n",
        "3. Go to https://drive.google.com/drive/folders/1FLGfE8WsyULEGEW1O1kwFm6pIKUWJ-Kl?usp=sharing (containing the videos used for testing the detection and model combination), then add a shortcut to this file in your drive\n",
        "4. Go to https://drive.google.com/file/d/16vo3Tu_rFbu134VjXTq7_KqVkefL2jAq/view?usp=sharing (containing the test image for showing the bounding boxes), then add a shortcut to this file in your drive\n",
        "5. Go to https://drive.google.com/drive/folders/1cjPciYMTOEaD2USHd_B94xNLUHVlSKsg?usp=sharing (containing the weights of the model), then add a shortcut to this file in your drive\n",
        "6. Simply run the cells in this notebook\n"
      ]
    },
    {
      "cell_type": "markdown",
      "source": [
        "## 1. Setup / Prequesites"
      ],
      "metadata": {
        "id": "HQfTPzZwun-i"
      }
    },
    {
      "cell_type": "markdown",
      "source": [
        "### 1.1 Downloads"
      ],
      "metadata": {
        "id": "gK5UVVnWu4nx"
      }
    },
    {
      "cell_type": "code",
      "execution_count": 1,
      "metadata": {
        "colab": {
          "base_uri": "https://localhost:8080/"
        },
        "id": "yh-jKW9KteI5",
        "outputId": "092c987b-3924-4349-f13d-515e290344a1"
      },
      "outputs": [
        {
          "output_type": "stream",
          "name": "stdout",
          "text": [
            "Requirement already satisfied: moviepy in /usr/local/lib/python3.10/dist-packages (1.0.3)\n",
            "Requirement already satisfied: decorator<5.0,>=4.0.2 in /usr/local/lib/python3.10/dist-packages (from moviepy) (4.4.2)\n",
            "Requirement already satisfied: tqdm<5.0,>=4.11.2 in /usr/local/lib/python3.10/dist-packages (from moviepy) (4.65.0)\n",
            "Requirement already satisfied: requests<3.0,>=2.8.1 in /usr/local/lib/python3.10/dist-packages (from moviepy) (2.27.1)\n",
            "Requirement already satisfied: proglog<=1.0.0 in /usr/local/lib/python3.10/dist-packages (from moviepy) (0.1.10)\n",
            "Requirement already satisfied: numpy>=1.17.3 in /usr/local/lib/python3.10/dist-packages (from moviepy) (1.22.4)\n",
            "Requirement already satisfied: imageio<3.0,>=2.5 in /usr/local/lib/python3.10/dist-packages (from moviepy) (2.25.1)\n",
            "Requirement already satisfied: imageio-ffmpeg>=0.2.0 in /usr/local/lib/python3.10/dist-packages (from moviepy) (0.4.8)\n",
            "Requirement already satisfied: pillow>=8.3.2 in /usr/local/lib/python3.10/dist-packages (from imageio<3.0,>=2.5->moviepy) (9.4.0)\n",
            "Requirement already satisfied: urllib3<1.27,>=1.21.1 in /usr/local/lib/python3.10/dist-packages (from requests<3.0,>=2.8.1->moviepy) (1.26.16)\n",
            "Requirement already satisfied: certifi>=2017.4.17 in /usr/local/lib/python3.10/dist-packages (from requests<3.0,>=2.8.1->moviepy) (2023.7.22)\n",
            "Requirement already satisfied: charset-normalizer~=2.0.0 in /usr/local/lib/python3.10/dist-packages (from requests<3.0,>=2.8.1->moviepy) (2.0.12)\n",
            "Requirement already satisfied: idna<4,>=2.5 in /usr/local/lib/python3.10/dist-packages (from requests<3.0,>=2.8.1->moviepy) (3.4)\n",
            "Collecting mediapipe\n",
            "  Downloading mediapipe-0.10.2-cp310-cp310-manylinux_2_17_x86_64.manylinux2014_x86_64.whl (33.5 MB)\n",
            "\u001b[2K     \u001b[90m━━━━━━━━━━━━━━━━━━━━━━━━━━━━━━━━━━━━━━━━\u001b[0m \u001b[32m33.5/33.5 MB\u001b[0m \u001b[31m36.4 MB/s\u001b[0m eta \u001b[36m0:00:00\u001b[0m\n",
            "\u001b[?25hRequirement already satisfied: absl-py in /usr/local/lib/python3.10/dist-packages (from mediapipe) (1.4.0)\n",
            "Requirement already satisfied: attrs>=19.1.0 in /usr/local/lib/python3.10/dist-packages (from mediapipe) (23.1.0)\n",
            "Requirement already satisfied: flatbuffers>=2.0 in /usr/local/lib/python3.10/dist-packages (from mediapipe) (23.5.26)\n",
            "Requirement already satisfied: matplotlib in /usr/local/lib/python3.10/dist-packages (from mediapipe) (3.7.1)\n",
            "Requirement already satisfied: numpy in /usr/local/lib/python3.10/dist-packages (from mediapipe) (1.22.4)\n",
            "Requirement already satisfied: opencv-contrib-python in /usr/local/lib/python3.10/dist-packages (from mediapipe) (4.7.0.72)\n",
            "Requirement already satisfied: protobuf<4,>=3.11 in /usr/local/lib/python3.10/dist-packages (from mediapipe) (3.20.3)\n",
            "Collecting sounddevice>=0.4.4 (from mediapipe)\n",
            "  Downloading sounddevice-0.4.6-py3-none-any.whl (31 kB)\n",
            "Requirement already satisfied: CFFI>=1.0 in /usr/local/lib/python3.10/dist-packages (from sounddevice>=0.4.4->mediapipe) (1.15.1)\n",
            "Requirement already satisfied: contourpy>=1.0.1 in /usr/local/lib/python3.10/dist-packages (from matplotlib->mediapipe) (1.1.0)\n",
            "Requirement already satisfied: cycler>=0.10 in /usr/local/lib/python3.10/dist-packages (from matplotlib->mediapipe) (0.11.0)\n",
            "Requirement already satisfied: fonttools>=4.22.0 in /usr/local/lib/python3.10/dist-packages (from matplotlib->mediapipe) (4.41.1)\n",
            "Requirement already satisfied: kiwisolver>=1.0.1 in /usr/local/lib/python3.10/dist-packages (from matplotlib->mediapipe) (1.4.4)\n",
            "Requirement already satisfied: packaging>=20.0 in /usr/local/lib/python3.10/dist-packages (from matplotlib->mediapipe) (23.1)\n",
            "Requirement already satisfied: pillow>=6.2.0 in /usr/local/lib/python3.10/dist-packages (from matplotlib->mediapipe) (9.4.0)\n",
            "Requirement already satisfied: pyparsing>=2.3.1 in /usr/local/lib/python3.10/dist-packages (from matplotlib->mediapipe) (3.1.0)\n",
            "Requirement already satisfied: python-dateutil>=2.7 in /usr/local/lib/python3.10/dist-packages (from matplotlib->mediapipe) (2.8.2)\n",
            "Requirement already satisfied: pycparser in /usr/local/lib/python3.10/dist-packages (from CFFI>=1.0->sounddevice>=0.4.4->mediapipe) (2.21)\n",
            "Requirement already satisfied: six>=1.5 in /usr/local/lib/python3.10/dist-packages (from python-dateutil>=2.7->matplotlib->mediapipe) (1.16.0)\n",
            "Installing collected packages: sounddevice, mediapipe\n",
            "Successfully installed mediapipe-0.10.2 sounddevice-0.4.6\n"
          ]
        }
      ],
      "source": [
        "# packages to predict and perform the cuts of the input videos in regard to time and surface\n",
        "! pip install moviepy\n",
        "! pip install mediapipe"
      ]
    },
    {
      "cell_type": "code",
      "source": [
        "# connect to google drive --> allows to store kaggle.json API token under the main folder in the drive,\n",
        "# o that it doesn't have to be uploaded every time\n",
        "# Alternatively the kaggle.json can be uploaded under /content/\n",
        "\n",
        "from google.colab import drive\n",
        "drive.mount('/content/drive')"
      ],
      "metadata": {
        "colab": {
          "base_uri": "https://localhost:8080/"
        },
        "id": "3jVL2OMu6TyY",
        "outputId": "f8cc4d26-2ae6-4998-ad1b-375ff48746b7"
      },
      "execution_count": 2,
      "outputs": [
        {
          "output_type": "stream",
          "name": "stdout",
          "text": [
            "Mounted at /content/drive\n"
          ]
        }
      ]
    },
    {
      "cell_type": "code",
      "source": [
        "# connecting to Kaggle to be able to download the data set\n",
        "! pip install kaggle\n",
        "! mkdir -p ~/.kaggle/\n",
        "# for the case, that kaggle.json is stored in the drive\n",
        "! cp drive/MyDrive/kaggle.json ~/.kaggle/\n",
        "# for the case, if kaggle.json is stored under the root dir\n",
        "# ! cp kaggle.json ~/.kaggle/\n",
        "! chmod 600 ~/.kaggle/kaggle.json"
      ],
      "metadata": {
        "colab": {
          "base_uri": "https://localhost:8080/"
        },
        "id": "GwdsBZGCvzV_",
        "outputId": "07da3f39-7289-43c1-f57d-ce0207da2241"
      },
      "execution_count": 3,
      "outputs": [
        {
          "output_type": "stream",
          "name": "stdout",
          "text": [
            "Requirement already satisfied: kaggle in /usr/local/lib/python3.10/dist-packages (1.5.16)\n",
            "Requirement already satisfied: six>=1.10 in /usr/local/lib/python3.10/dist-packages (from kaggle) (1.16.0)\n",
            "Requirement already satisfied: certifi in /usr/local/lib/python3.10/dist-packages (from kaggle) (2023.7.22)\n",
            "Requirement already satisfied: python-dateutil in /usr/local/lib/python3.10/dist-packages (from kaggle) (2.8.2)\n",
            "Requirement already satisfied: requests in /usr/local/lib/python3.10/dist-packages (from kaggle) (2.27.1)\n",
            "Requirement already satisfied: tqdm in /usr/local/lib/python3.10/dist-packages (from kaggle) (4.65.0)\n",
            "Requirement already satisfied: python-slugify in /usr/local/lib/python3.10/dist-packages (from kaggle) (8.0.1)\n",
            "Requirement already satisfied: urllib3 in /usr/local/lib/python3.10/dist-packages (from kaggle) (1.26.16)\n",
            "Requirement already satisfied: bleach in /usr/local/lib/python3.10/dist-packages (from kaggle) (6.0.0)\n",
            "Requirement already satisfied: webencodings in /usr/local/lib/python3.10/dist-packages (from bleach->kaggle) (0.5.1)\n",
            "Requirement already satisfied: text-unidecode>=1.3 in /usr/local/lib/python3.10/dist-packages (from python-slugify->kaggle) (1.3)\n",
            "Requirement already satisfied: charset-normalizer~=2.0.0 in /usr/local/lib/python3.10/dist-packages (from requests->kaggle) (2.0.12)\n",
            "Requirement already satisfied: idna<4,>=2.5 in /usr/local/lib/python3.10/dist-packages (from requests->kaggle) (3.4)\n"
          ]
        }
      ]
    },
    {
      "cell_type": "markdown",
      "source": [
        "### 1.2 Imports"
      ],
      "metadata": {
        "id": "aLxlObQLu7QD"
      }
    },
    {
      "cell_type": "code",
      "source": [
        "# import  libraries needed for the detection part\n",
        "import mediapipe as mp\n",
        "import pandas as pd\n",
        "from moviepy.editor import VideoFileClip\n",
        "from moviepy.video.fx.all import crop\n",
        "from keras.metrics import IoU\n",
        "import cv2\n",
        "import numpy as np\n",
        "import json\n",
        "import matplotlib.pyplot as plt\n",
        "import matplotlib.patches as patches\n",
        "import os\n",
        "import tensorflow as tf\n",
        "import pathlib\n",
        "import random\n",
        "\n",
        "# import libraries needed for the recognition part\n",
        "from typing import Tuple\n",
        "from tensorflow.keras.layers import Dense, Flatten, Conv2D, MaxPooling2D, GlobalAveragePooling2D, Dropout, \\\n",
        "ZeroPadding3D, ZeroPadding2D, RandomRotation, RandomCrop,RandomFlip, RandomZoom, BatchNormalization\n",
        "from tensorflow.keras.layers import Layer\n",
        "import shutil"
      ],
      "metadata": {
        "id": "phOtRE5cu-Aq"
      },
      "execution_count": 4,
      "outputs": []
    },
    {
      "cell_type": "markdown",
      "source": [
        "### 1.3 Configuration"
      ],
      "metadata": {
        "id": "vvVoQI3dvIMm"
      }
    },
    {
      "cell_type": "code",
      "source": [
        "# setting the face_mesh of MediaPipe to enable the Face Detection\n",
        "mp_face_mesh = mp.solutions.face_mesh"
      ],
      "metadata": {
        "id": "IUGnAqTVvJ7z"
      },
      "execution_count": 5,
      "outputs": []
    },
    {
      "cell_type": "code",
      "source": [
        "# Setting the directories where the data files are stored\n",
        "# Data Dirs\n",
        "DATA_DIR_EVAL = \"/content/ms_asl/\"\n",
        "\n",
        "# Train Files\n",
        "MSASL_train_eval = DATA_DIR_EVAL + 'MSASL_train.json'\n",
        "\n",
        "# Val Files\n",
        "MSASL_val_eval = DATA_DIR_EVAL + 'MSASL_val.json'\n",
        "\n",
        "# Test Files\n",
        "MSASL_test_eval = DATA_DIR_EVAL + 'MSASL_test.json'\n",
        "\n",
        "data_files_eval = [MSASL_train_eval, MSASL_val_eval, MSASL_test_eval]"
      ],
      "metadata": {
        "id": "GIG90x6fvNvN"
      },
      "execution_count": 6,
      "outputs": []
    },
    {
      "cell_type": "code",
      "source": [
        "# download the ASL dataset and unzipping it into the data diretory\n",
        "! kaggle datasets download -d saurabhshahane/american-sign-language-dataset\n",
        "! unzip -n -q american-sign-language-dataset.zip -d ms_asl"
      ],
      "metadata": {
        "colab": {
          "base_uri": "https://localhost:8080/"
        },
        "id": "ilzy30e9vtwe",
        "outputId": "436c408c-4954-451f-cb75-6b1cff804bef"
      },
      "execution_count": 7,
      "outputs": [
        {
          "output_type": "stream",
          "name": "stdout",
          "text": [
            "Downloading american-sign-language-dataset.zip to /content\n",
            "100% 1.91M/1.91M [00:01<00:00, 2.04MB/s]\n",
            "100% 1.91M/1.91M [00:01<00:00, 1.79MB/s]\n"
          ]
        }
      ]
    },
    {
      "cell_type": "markdown",
      "source": [
        "## 2. Detection"
      ],
      "metadata": {
        "id": "p85ceh58wB8N"
      }
    },
    {
      "cell_type": "markdown",
      "source": [
        "### 2.1 Detection Model"
      ],
      "metadata": {
        "id": "PwTSOMxdwFtS"
      }
    },
    {
      "cell_type": "code",
      "source": [
        "# Function to use MediaPipe to detect faces in an image\n",
        "def mediapipe_detection(image, model):\n",
        "    image = cv2.cvtColor(image, cv2.COLOR_BGR2RGB)\n",
        "    image.flags.writeable = False\n",
        "    results = model.process(image)\n",
        "    image.flags.writeable = True\n",
        "    image = cv2.cvtColor(image, cv2.COLOR_RGB2BGR)\n",
        "    return image, results\n",
        "\n",
        "# Function to draw the predicted landmarks of face and hands for calculating the bounding boxes\n",
        "def draw_landmarks(image, results):\n",
        "    mp_holistic = mp.solutions.holistic  # Holistic model\n",
        "    mp_drawing = mp.solutions.drawing_utils  # Drawing utilities\n",
        "\n",
        "    # Draw left hand connections\n",
        "    image_new = mp_drawing.draw_landmarks(\n",
        "        image,\n",
        "        landmark_list=results.left_hand_landmarks,\n",
        "        connections=mp_holistic.HAND_CONNECTIONS,\n",
        "        landmark_drawing_spec=mp_drawing.DrawingSpec(\n",
        "            color=(232, 254, 255), thickness=1, circle_radius=4\n",
        "        ),\n",
        "        connection_drawing_spec=mp_drawing.DrawingSpec(\n",
        "            color=(255, 249, 161), thickness=2, circle_radius=2\n",
        "        ),\n",
        "    )\n",
        "\n",
        "    image = image_new if image_new is not None else image\n",
        "\n",
        "    # Draw right hand connections\n",
        "    image_new = mp_drawing.draw_landmarks(\n",
        "        image,\n",
        "        landmark_list=results.right_hand_landmarks,\n",
        "        connections=mp_holistic.HAND_CONNECTIONS,\n",
        "        landmark_drawing_spec=mp_drawing.DrawingSpec(\n",
        "            color=(232, 254, 255), thickness=1, circle_radius=4\n",
        "        ),\n",
        "        connection_drawing_spec=mp_drawing.DrawingSpec(\n",
        "            color=(255, 249, 161), thickness=2, circle_radius=2\n",
        "        ),\n",
        "    )\n",
        "    image = image_new if image_new is not None else image\n",
        "\n",
        "    return image\n",
        "\n",
        "# Function for cutting the videos according the the predicted start/end frames of the signs\n",
        "def cut_videos(start_frame, end_frame, video_path, counter, min_x, max_x, min_y, max_y ):\n",
        "    cap_temp = cv2.VideoCapture(video_path)\n",
        "\n",
        "\n",
        "    output_path = video_path.split(\".\")[0] + str(counter) + \".\" + video_path.split(\".\")[1]\n",
        "\n",
        "    # Get the frames per second (fps) and frame count of the video\n",
        "    fps = cap_temp.get(cv2.CAP_PROP_FPS)\n",
        "    frame_count = cap_temp.get(cv2.CAP_PROP_FRAME_COUNT)\n",
        "\n",
        "    # Set the start and end frame numbers\n",
        "    start_frame_num = start_frame\n",
        "    end_frame_num = end_frame\n",
        "\n",
        "    # Check if the specified frames are within the video's range\n",
        "    if start_frame_num > frame_count or end_frame_num > frame_count:\n",
        "        print(\"Invalid frame range.\")\n",
        "        cap_temp.release()\n",
        "        exit()\n",
        "\n",
        "    # Set the start frame position\n",
        "    cap_temp.set(cv2.CAP_PROP_POS_FRAMES, start_frame_num)\n",
        "\n",
        "    # Create a VideoWriter object to write the extracted frames\n",
        "    fourcc = cv2.VideoWriter_fourcc(*\"mp4v\")\n",
        "    output = cv2.VideoWriter(output_path, fourcc, fps, (int(cap_temp.get(3)), int(cap_temp.get(4))))\n",
        "\n",
        "    # Read and write the frames within the specified range\n",
        "    current_frame = start_frame_num\n",
        "\n",
        "    while current_frame <= end_frame_num:\n",
        "        ret, frame = cap_temp.read()\n",
        "        if not ret:\n",
        "            break\n",
        "\n",
        "        height, width = frame.shape[:2]\n",
        "        # print(height, width)\n",
        "        # cropped_frame = frame[int(min_x*width):int(max_x*width), int(min_y*height):int(max_y*height)]\n",
        "\n",
        "        # print(cropped_frame.shape)\n",
        "\n",
        "        output.write(frame)\n",
        "        current_frame += 1\n",
        "\n",
        "    cap_temp.release()\n",
        "\n",
        "    return {output_path: [int(min_x*width), int(min_y*height), int(max_x*width), int(max_y*height)]}\n",
        "\n",
        "# Function to filter the min/max x/y coordinates of the hands needed for calculating the bounding box\n",
        "def filter_min_max(lst):\n",
        "    x_vals = [i.x for i in lst]\n",
        "    y_vals = [i.y for i in lst]\n",
        "    min_x = min(x_vals)\n",
        "    max_x = max(x_vals)\n",
        "    min_y = min(y_vals)\n",
        "    max_y = max(y_vals)\n",
        "    return [min_x, max_x, min_y, max_y]\n",
        "\n",
        "# Fucntion to filter the min/max x/y coordinates of the face needed for calculating the bounding box\n",
        "def get_min_max_of_face(frame):\n",
        "    with mp_face_mesh.FaceMesh(static_image_mode=True,\n",
        "                           max_num_faces=1,\n",
        "                        #    refine_landmarks=True,\n",
        "                           min_detection_confidence=0.5) as face_mesh:\n",
        "\n",
        "        results = face_mesh.process(frame)\n",
        "\n",
        "    if bool(results.multi_face_landmarks):\n",
        "        face_landmarks = results.multi_face_landmarks[0]\n",
        "        face_coordinates = [face_landmark for face_landmark in face_landmarks.landmark]\n",
        "        return filter_min_max(face_coordinates)\n",
        "    else:\n",
        "        return [None, None, None, None]\n",
        "\n",
        "# Function to create a dataframe to store the extracted coordinates needed for calculating the bounding box\n",
        "def create_empty_dataframe():\n",
        "    return pd.DataFrame(columns=[\"left_hand_x_min\", \"left_hand_x_max\", \"left_hand_y_min\", \"left_hand_y_max\",\n",
        "                                                    \"right_hand_x_min\", \"right_hand_x_max\", \"right_hand_y_min\", \"right_hand_y_max\",\n",
        "                                                    \"face_x_min\", \"face_x_max\", \"face_y_min\", \"face_y_max\"])\n",
        "\n",
        "# Function to cut the calculated bounding box out of the video\n",
        "def crop_videos_from_dataframe(df: pd.DataFrame, cap):\n",
        "\n",
        "    df = df.fillna(0.5)\n",
        "\n",
        "    min_x = np.nanmin(np.array((df[\"left_hand_x_min\"].dropna().min(),df[\"face_x_min\"].dropna().min(), df[\"right_hand_x_min\"].dropna().min())))\n",
        "    min_y = np.nanmin(np.array((df[\"left_hand_y_min\"].dropna().min(),df[\"face_y_min\"].dropna().min(), df[\"right_hand_y_min\"].dropna().min())))\n",
        "    max_x = np.nanmax(np.array((df[\"left_hand_x_max\"].dropna().max(),df[\"face_x_max\"].dropna().max(), df[\"right_hand_x_max\"].dropna().max())))\n",
        "    max_y = np.nanmax(np.array((df[\"left_hand_y_max\"].dropna().max(),df[\"face_y_max\"].dropna().max(), df[\"right_hand_y_max\"].dropna().max())))\n",
        "\n",
        "    face_middle = (df[\"face_x_min\"].dropna().mean() + df[\"face_x_max\"].dropna().mean())/2\n",
        "    distance = max(face_middle-min_x, max_x-face_middle)\n",
        "\n",
        "    min_x = face_middle-distance-0.1 if face_middle-distance-0.1 > 0 else 0\n",
        "    max_x = face_middle+distance+0.1  if face_middle+distance+0.1 < 1 else 1\n",
        "    min_y = min_y-0.1 if min_y-0.1 > 0 else 0\n",
        "    max_y = max_y+0.1 if max_y+0.1 < 1 else 1\n",
        "    print(face_middle-distance, face_middle+distance, min_y, max_y)\n",
        "    return face_middle-distance, face_middle+distance, min_y, max_y"
      ],
      "metadata": {
        "id": "oQRRbIgcwDUG"
      },
      "execution_count": 8,
      "outputs": []
    },
    {
      "cell_type": "code",
      "source": [
        "# Function to call all the above functions to perform the sign detection and the cutting with one click\n",
        "def get_time_and_bounding_boxes(video_path):\n",
        "  cap = cv2.VideoCapture(video_path)\n",
        "\n",
        "  fps = cap.get(cv2.CAP_PROP_FPS)\n",
        "\n",
        "  threshold_counter_no_hand = fps // 2\n",
        "  threshold_min_video_len = fps // 2\n",
        "\n",
        "  video_times = []\n",
        "  crop_video = []\n",
        "  video_postions = create_empty_dataframe()\n",
        "  start_time_temp = None\n",
        "  counter_no_hand = None\n",
        "  frame_counter = 0\n",
        "\n",
        "  coordinates = []\n",
        "\n",
        "  # Check if camera opened successfully\n",
        "  if (cap.isOpened()== False):\n",
        "    print(\"Error opening video stream or file\")\n",
        "\n",
        "  with mp.solutions.holistic.Holistic(\n",
        "          min_detection_confidence=0.5, min_tracking_confidence=0.5\n",
        "      ) as holistic:\n",
        "    # Read until video is completed\n",
        "    while(cap.isOpened()):\n",
        "      # Capture frame-by-frame\n",
        "      ret, frame = cap.read()\n",
        "      if ret == True:\n",
        "        frame_counter += 1\n",
        "\n",
        "        # Make detections\n",
        "        image, results = mediapipe_detection(frame, holistic)\n",
        "        if results is not None:\n",
        "          if results.left_hand_landmarks is not None:\n",
        "            video_postions_temp = filter_min_max([hand_landmarks for hand_landmarks in results.left_hand_landmarks.landmark])\n",
        "          else:\n",
        "            video_postions_temp = [None, None, None, None]\n",
        "          if results.right_hand_landmarks is not None:\n",
        "            video_postions_temp.extend(filter_min_max([hand_landmarks for hand_landmarks in results.right_hand_landmarks.landmark]))\n",
        "          else:\n",
        "            video_postions_temp.extend([None, None, None, None])\n",
        "\n",
        "          video_postions_temp.extend(get_min_max_of_face(frame))\n",
        "          video_postions_temp_df = pd.DataFrame([video_postions_temp],\n",
        "                                            columns=[\"left_hand_x_min\", \"left_hand_x_max\", \"left_hand_y_min\", \"left_hand_y_max\",\n",
        "                                                      \"right_hand_x_min\", \"right_hand_x_max\", \"right_hand_y_min\", \"right_hand_y_max\",\n",
        "                                                      \"face_x_min\", \"face_x_max\", \"face_y_min\", \"face_y_max\"])\n",
        "          video_postions = pd.concat([video_postions, video_postions_temp_df], ignore_index=True)\n",
        "\n",
        "        if results.right_hand_landmarks is None and results.left_hand_landmarks is None:\n",
        "\n",
        "          if counter_no_hand is not None:\n",
        "            counter_no_hand += 1\n",
        "            if counter_no_hand > threshold_counter_no_hand:\n",
        "              if (frame_counter - start_time_temp) > threshold_min_video_len:   # fps:\n",
        "                end_time_temp = frame_counter - counter_no_hand\n",
        "                if (end_time_temp - start_time_temp) < threshold_min_video_len:\n",
        "                  end_time_temp = start_time_temp + threshold_min_video_len\n",
        "                  if frame_counter < end_time_temp:\n",
        "                    end_time_temp = frame_counter\n",
        "\n",
        "                video_times.append((start_time_temp, end_time_temp))\n",
        "                min_x, max_x, min_y, max_y = crop_videos_from_dataframe(video_postions, cap)\n",
        "                coordinates.append((min_x, min_y, max_x, max_y))\n",
        "                video_postions = create_empty_dataframe()\n",
        "                crop_video.append(cut_videos(start_time_temp, end_time_temp, video_path, len(video_times), min_x, max_x, min_y, max_y))\n",
        "                start_time_temp = None\n",
        "                counter_no_hand = None\n",
        "\n",
        "        else:\n",
        "          if start_time_temp is None:\n",
        "            start_time_temp = frame_counter\n",
        "            counter_no_hand = 0\n",
        "\n",
        "        if results is not None and image is not None:\n",
        "          image = draw_landmarks(image, results)\n",
        "\n",
        "      # Break the loop\n",
        "      else:\n",
        "        break\n",
        "\n",
        "  if start_time_temp is not None:\n",
        "    if (frame_counter - start_time_temp) > fps:\n",
        "      # video_times.append((start_time_temp, frame_counter))\n",
        "      end_time_temp = frame_counter - counter_no_hand\n",
        "      if (end_time_temp - start_time_temp) < threshold_min_video_len:\n",
        "        end_time_temp = start_time_temp + threshold_min_video_len\n",
        "        if frame_counter < end_time_temp:\n",
        "          end_time_temp = frame_counter\n",
        "      video_times.append((start_time_temp, end_time_temp))\n",
        "      min_x, max_x, min_y, max_y = crop_videos_from_dataframe(video_postions, cap)\n",
        "      coordinates.append((min_x, min_y, max_x, max_y))\n",
        "      video_postions = create_empty_dataframe()\n",
        "      crop_video.append(cut_videos(start_time_temp, frame_counter, video_path, len(video_times), min_x, max_x, min_y, max_y))\n",
        "\n",
        "  # When everything done, release the video capture object\n",
        "  cap.release()\n",
        "\n",
        "  for item in crop_video:\n",
        "      for key, value in item.items():\n",
        "          clip = VideoFileClip(key)\n",
        "          new_clip = crop(clip, x1=value[0], y1=value[1], x2=value[2], y2=value[3])\n",
        "          target_path_cropped = key.split(\".\")[0] + \"cropped.\" + key.split(\".\")[1]\n",
        "          print(new_clip.write_videofile(target_path_cropped, audio=False))   # , codec='mpeg4'\n",
        "\n",
        "  return coordinates, video_times"
      ],
      "metadata": {
        "id": "fAu-S0ffwVym"
      },
      "execution_count": 9,
      "outputs": []
    },
    {
      "cell_type": "markdown",
      "source": [
        "### 2.2 Use Detection Model"
      ],
      "metadata": {
        "id": "TMkPYq4NwRVw"
      }
    },
    {
      "cell_type": "code",
      "source": [
        "# setting the video paths for the 5 videos used to evaluate the detection and model combination\n",
        "video_for_eval_1 = \"/content/drive/MyDrive/DeepSL/MSASL100/Test/test/uE3IDWh0xnA.mp4\"\n",
        "video_for_eval_2 = \"/content/drive/MyDrive/DeepSL/MSASL100/Test/test/wqDOKXEx24M.mp4\"\n",
        "video_for_eval_3 = \"/content/drive/MyDrive/DeepSL/MSASL100/Test/test/IKfQ-Cra9Bc.mp4\"\n",
        "video_for_eval_4 = \"/content/drive/MyDrive/DeepSL/MSASL100/Test/test/kwCfdkhc37c.mp4\"\n",
        "video_for_eval_5 = \"/content/drive/MyDrive/DeepSL/MSASL100/Test/test/R-2MXm-JM0Q.mp4\""
      ],
      "metadata": {
        "id": "N1h3U6RpwetJ"
      },
      "execution_count": 10,
      "outputs": []
    },
    {
      "cell_type": "markdown",
      "source": [
        "Predicting the Bounding Boxes and the Start/End times of the signs for each of the five videos"
      ],
      "metadata": {
        "id": "FPiGUlk14QCx"
      }
    },
    {
      "cell_type": "code",
      "source": [
        "predicted_coordinates_1, predicted_times_1 = get_time_and_bounding_boxes(video_for_eval_1)"
      ],
      "metadata": {
        "colab": {
          "base_uri": "https://localhost:8080/"
        },
        "id": "hCfulHgpwhrG",
        "outputId": "d8b28636-a8cf-4ef6-9b82-8b9b8aefaa19"
      },
      "execution_count": 11,
      "outputs": [
        {
          "output_type": "stream",
          "name": "stdout",
          "text": [
            "-0.016097933053970337 0.9925321453172742 0.24278976917266845 1\n",
            "0.20563732900402765 0.7870223522186279 0.2594806790351868 1\n",
            "0.23505008220672607 0.7649499177932739 0.049794682860374445 1\n",
            "-0.07642138004302979 1.0764213800430298 0.19524415731430053 1\n",
            "-0.10435435175895691 1.104354351758957 0.3422842860221863 1\n",
            "0.16787049174308777 0.8321295082569122 0.14771872162818908 1\n",
            "0.1342868208885193 0.8657131791114807 0.29766067266464236 1\n",
            "0.17222678661346436 0.8277732133865356 0.211819851398468 1\n",
            "0.21119704842567444 0.7888029515743256 0.3588266909122467 1\n",
            "0.11778420209884644 0.8822157979011536 0.10925469696521758 1\n",
            "0.19724025649995336 0.7976926565170288 0.26469036340713503 1\n",
            "-0.22308111190795898 1.223081111907959 0.30115499496459963 1\n",
            "-0.24869859112160553 1.2454297542572021 0.017235496640205378 1\n",
            "0.11452031135559082 0.8854796886444092 0.3822628200054169 1\n",
            "-0.0151548310146703 1.007853627204895 0.16641857624053955 1\n",
            "-0.0407719612121582 1.0407719612121582 0.1518584132194519 1\n",
            "0.041513800621032715 0.9584861993789673 0.3343087673187256 1\n",
            "-0.19702911376953125 1.1970291137695312 0.277972424030304 1\n",
            "-0.28905320167541504 1.289053201675415 0.04323644340038299 0.783375597000122\n",
            "0.02369821071624756 0.9763017892837524 0.4 1\n",
            "-0.041959747672080994 1.041959747672081 0.27630271911621096 1\n",
            "0.16939055919647217 0.8306094408035278 0.19398858547210693 1\n",
            "Moviepy - Building video /content/drive/MyDrive/DeepSL/MSASL100/Test/test/uE3IDWh0xnA1cropped.mp4.\n",
            "Moviepy - Writing video /content/drive/MyDrive/DeepSL/MSASL100/Test/test/uE3IDWh0xnA1cropped.mp4\n",
            "\n"
          ]
        },
        {
          "output_type": "stream",
          "name": "stderr",
          "text": []
        },
        {
          "output_type": "stream",
          "name": "stdout",
          "text": [
            "Moviepy - Done !\n",
            "Moviepy - video ready /content/drive/MyDrive/DeepSL/MSASL100/Test/test/uE3IDWh0xnA1cropped.mp4\n",
            "None\n",
            "Moviepy - Building video /content/drive/MyDrive/DeepSL/MSASL100/Test/test/uE3IDWh0xnA2cropped.mp4.\n",
            "Moviepy - Writing video /content/drive/MyDrive/DeepSL/MSASL100/Test/test/uE3IDWh0xnA2cropped.mp4\n",
            "\n"
          ]
        },
        {
          "output_type": "stream",
          "name": "stderr",
          "text": [
            "t:  76%|███████▌  | 25/33 [00:00<00:00, 41.77it/s, now=None]WARNING:py.warnings:/usr/local/lib/python3.10/dist-packages/moviepy/video/io/ffmpeg_reader.py:123: UserWarning: Warning: in file /content/drive/MyDrive/DeepSL/MSASL100/Test/test/uE3IDWh0xnA2.mp4, 876960 bytes wanted but 0 bytes read,at frame 32/33, at time 1.07/1.07 sec. Using the last valid frame instead.\n",
            "  warnings.warn(\"Warning: in file %s, \"%(self.filename)+\n",
            "\n"
          ]
        },
        {
          "output_type": "stream",
          "name": "stdout",
          "text": [
            "Moviepy - Done !\n",
            "Moviepy - video ready /content/drive/MyDrive/DeepSL/MSASL100/Test/test/uE3IDWh0xnA2cropped.mp4\n",
            "None\n",
            "Moviepy - Building video /content/drive/MyDrive/DeepSL/MSASL100/Test/test/uE3IDWh0xnA3cropped.mp4.\n",
            "Moviepy - Writing video /content/drive/MyDrive/DeepSL/MSASL100/Test/test/uE3IDWh0xnA3cropped.mp4\n",
            "\n"
          ]
        },
        {
          "output_type": "stream",
          "name": "stderr",
          "text": [
            "t:  72%|███████▏  | 26/36 [00:01<00:00, 36.02it/s, now=None]WARNING:py.warnings:/usr/local/lib/python3.10/dist-packages/moviepy/video/io/ffmpeg_reader.py:123: UserWarning: Warning: in file /content/drive/MyDrive/DeepSL/MSASL100/Test/test/uE3IDWh0xnA3.mp4, 876960 bytes wanted but 0 bytes read,at frame 35/36, at time 1.17/1.17 sec. Using the last valid frame instead.\n",
            "  warnings.warn(\"Warning: in file %s, \"%(self.filename)+\n",
            "\n"
          ]
        },
        {
          "output_type": "stream",
          "name": "stdout",
          "text": [
            "Moviepy - Done !\n",
            "Moviepy - video ready /content/drive/MyDrive/DeepSL/MSASL100/Test/test/uE3IDWh0xnA3cropped.mp4\n",
            "None\n",
            "Moviepy - Building video /content/drive/MyDrive/DeepSL/MSASL100/Test/test/uE3IDWh0xnA4cropped.mp4.\n",
            "Moviepy - Writing video /content/drive/MyDrive/DeepSL/MSASL100/Test/test/uE3IDWh0xnA4cropped.mp4\n",
            "\n"
          ]
        },
        {
          "output_type": "stream",
          "name": "stderr",
          "text": []
        },
        {
          "output_type": "stream",
          "name": "stdout",
          "text": [
            "Moviepy - Done !\n",
            "Moviepy - video ready /content/drive/MyDrive/DeepSL/MSASL100/Test/test/uE3IDWh0xnA4cropped.mp4\n",
            "None\n",
            "Moviepy - Building video /content/drive/MyDrive/DeepSL/MSASL100/Test/test/uE3IDWh0xnA5cropped.mp4.\n",
            "Moviepy - Writing video /content/drive/MyDrive/DeepSL/MSASL100/Test/test/uE3IDWh0xnA5cropped.mp4\n",
            "\n"
          ]
        },
        {
          "output_type": "stream",
          "name": "stderr",
          "text": []
        },
        {
          "output_type": "stream",
          "name": "stdout",
          "text": [
            "Moviepy - Done !\n",
            "Moviepy - video ready /content/drive/MyDrive/DeepSL/MSASL100/Test/test/uE3IDWh0xnA5cropped.mp4\n",
            "None\n",
            "Moviepy - Building video /content/drive/MyDrive/DeepSL/MSASL100/Test/test/uE3IDWh0xnA6cropped.mp4.\n",
            "Moviepy - Writing video /content/drive/MyDrive/DeepSL/MSASL100/Test/test/uE3IDWh0xnA6cropped.mp4\n",
            "\n"
          ]
        },
        {
          "output_type": "stream",
          "name": "stderr",
          "text": []
        },
        {
          "output_type": "stream",
          "name": "stdout",
          "text": [
            "Moviepy - Done !\n",
            "Moviepy - video ready /content/drive/MyDrive/DeepSL/MSASL100/Test/test/uE3IDWh0xnA6cropped.mp4\n",
            "None\n",
            "Moviepy - Building video /content/drive/MyDrive/DeepSL/MSASL100/Test/test/uE3IDWh0xnA7cropped.mp4.\n",
            "Moviepy - Writing video /content/drive/MyDrive/DeepSL/MSASL100/Test/test/uE3IDWh0xnA7cropped.mp4\n",
            "\n"
          ]
        },
        {
          "output_type": "stream",
          "name": "stderr",
          "text": [
            "t:  97%|█████████▋| 70/72 [00:01<00:00, 61.86it/s, now=None]WARNING:py.warnings:/usr/local/lib/python3.10/dist-packages/moviepy/video/io/ffmpeg_reader.py:123: UserWarning: Warning: in file /content/drive/MyDrive/DeepSL/MSASL100/Test/test/uE3IDWh0xnA7.mp4, 876960 bytes wanted but 0 bytes read,at frame 71/72, at time 2.37/2.37 sec. Using the last valid frame instead.\n",
            "  warnings.warn(\"Warning: in file %s, \"%(self.filename)+\n",
            "\n"
          ]
        },
        {
          "output_type": "stream",
          "name": "stdout",
          "text": [
            "Moviepy - Done !\n",
            "Moviepy - video ready /content/drive/MyDrive/DeepSL/MSASL100/Test/test/uE3IDWh0xnA7cropped.mp4\n",
            "None\n",
            "Moviepy - Building video /content/drive/MyDrive/DeepSL/MSASL100/Test/test/uE3IDWh0xnA8cropped.mp4.\n",
            "Moviepy - Writing video /content/drive/MyDrive/DeepSL/MSASL100/Test/test/uE3IDWh0xnA8cropped.mp4\n",
            "\n"
          ]
        },
        {
          "output_type": "stream",
          "name": "stderr",
          "text": [
            "t:  91%|█████████ | 41/45 [00:01<00:00, 59.40it/s, now=None]WARNING:py.warnings:/usr/local/lib/python3.10/dist-packages/moviepy/video/io/ffmpeg_reader.py:123: UserWarning: Warning: in file /content/drive/MyDrive/DeepSL/MSASL100/Test/test/uE3IDWh0xnA8.mp4, 876960 bytes wanted but 0 bytes read,at frame 44/45, at time 1.47/1.47 sec. Using the last valid frame instead.\n",
            "  warnings.warn(\"Warning: in file %s, \"%(self.filename)+\n",
            "\n"
          ]
        },
        {
          "output_type": "stream",
          "name": "stdout",
          "text": [
            "Moviepy - Done !\n",
            "Moviepy - video ready /content/drive/MyDrive/DeepSL/MSASL100/Test/test/uE3IDWh0xnA8cropped.mp4\n",
            "None\n",
            "Moviepy - Building video /content/drive/MyDrive/DeepSL/MSASL100/Test/test/uE3IDWh0xnA9cropped.mp4.\n",
            "Moviepy - Writing video /content/drive/MyDrive/DeepSL/MSASL100/Test/test/uE3IDWh0xnA9cropped.mp4\n",
            "\n"
          ]
        },
        {
          "output_type": "stream",
          "name": "stderr",
          "text": []
        },
        {
          "output_type": "stream",
          "name": "stdout",
          "text": [
            "Moviepy - Done !\n",
            "Moviepy - video ready /content/drive/MyDrive/DeepSL/MSASL100/Test/test/uE3IDWh0xnA9cropped.mp4\n",
            "None\n",
            "Moviepy - Building video /content/drive/MyDrive/DeepSL/MSASL100/Test/test/uE3IDWh0xnA10cropped.mp4.\n",
            "Moviepy - Writing video /content/drive/MyDrive/DeepSL/MSASL100/Test/test/uE3IDWh0xnA10cropped.mp4\n",
            "\n"
          ]
        },
        {
          "output_type": "stream",
          "name": "stderr",
          "text": []
        },
        {
          "output_type": "stream",
          "name": "stdout",
          "text": [
            "Moviepy - Done !\n",
            "Moviepy - video ready /content/drive/MyDrive/DeepSL/MSASL100/Test/test/uE3IDWh0xnA10cropped.mp4\n",
            "None\n",
            "Moviepy - Building video /content/drive/MyDrive/DeepSL/MSASL100/Test/test/uE3IDWh0xnA11cropped.mp4.\n",
            "Moviepy - Writing video /content/drive/MyDrive/DeepSL/MSASL100/Test/test/uE3IDWh0xnA11cropped.mp4\n",
            "\n"
          ]
        },
        {
          "output_type": "stream",
          "name": "stderr",
          "text": [
            "t:  91%|█████████ | 41/45 [00:01<00:00, 53.93it/s, now=None]WARNING:py.warnings:/usr/local/lib/python3.10/dist-packages/moviepy/video/io/ffmpeg_reader.py:123: UserWarning: Warning: in file /content/drive/MyDrive/DeepSL/MSASL100/Test/test/uE3IDWh0xnA11.mp4, 876960 bytes wanted but 0 bytes read,at frame 44/45, at time 1.47/1.47 sec. Using the last valid frame instead.\n",
            "  warnings.warn(\"Warning: in file %s, \"%(self.filename)+\n",
            "\n"
          ]
        },
        {
          "output_type": "stream",
          "name": "stdout",
          "text": [
            "Moviepy - Done !\n",
            "Moviepy - video ready /content/drive/MyDrive/DeepSL/MSASL100/Test/test/uE3IDWh0xnA11cropped.mp4\n",
            "None\n",
            "Moviepy - Building video /content/drive/MyDrive/DeepSL/MSASL100/Test/test/uE3IDWh0xnA12cropped.mp4.\n",
            "Moviepy - Writing video /content/drive/MyDrive/DeepSL/MSASL100/Test/test/uE3IDWh0xnA12cropped.mp4\n",
            "\n"
          ]
        },
        {
          "output_type": "stream",
          "name": "stderr",
          "text": [
            "t:  91%|█████████ | 41/45 [00:00<00:00, 57.06it/s, now=None]WARNING:py.warnings:/usr/local/lib/python3.10/dist-packages/moviepy/video/io/ffmpeg_reader.py:123: UserWarning: Warning: in file /content/drive/MyDrive/DeepSL/MSASL100/Test/test/uE3IDWh0xnA12.mp4, 876960 bytes wanted but 0 bytes read,at frame 44/45, at time 1.47/1.47 sec. Using the last valid frame instead.\n",
            "  warnings.warn(\"Warning: in file %s, \"%(self.filename)+\n",
            "\n"
          ]
        },
        {
          "output_type": "stream",
          "name": "stdout",
          "text": [
            "Moviepy - Done !\n",
            "Moviepy - video ready /content/drive/MyDrive/DeepSL/MSASL100/Test/test/uE3IDWh0xnA12cropped.mp4\n",
            "None\n",
            "Moviepy - Building video /content/drive/MyDrive/DeepSL/MSASL100/Test/test/uE3IDWh0xnA13cropped.mp4.\n",
            "Moviepy - Writing video /content/drive/MyDrive/DeepSL/MSASL100/Test/test/uE3IDWh0xnA13cropped.mp4\n",
            "\n"
          ]
        },
        {
          "output_type": "stream",
          "name": "stderr",
          "text": []
        },
        {
          "output_type": "stream",
          "name": "stdout",
          "text": [
            "Moviepy - Done !\n",
            "Moviepy - video ready /content/drive/MyDrive/DeepSL/MSASL100/Test/test/uE3IDWh0xnA13cropped.mp4\n",
            "None\n",
            "Moviepy - Building video /content/drive/MyDrive/DeepSL/MSASL100/Test/test/uE3IDWh0xnA14cropped.mp4.\n",
            "Moviepy - Writing video /content/drive/MyDrive/DeepSL/MSASL100/Test/test/uE3IDWh0xnA14cropped.mp4\n",
            "\n"
          ]
        },
        {
          "output_type": "stream",
          "name": "stderr",
          "text": []
        },
        {
          "output_type": "stream",
          "name": "stdout",
          "text": [
            "Moviepy - Done !\n",
            "Moviepy - video ready /content/drive/MyDrive/DeepSL/MSASL100/Test/test/uE3IDWh0xnA14cropped.mp4\n",
            "None\n",
            "Moviepy - Building video /content/drive/MyDrive/DeepSL/MSASL100/Test/test/uE3IDWh0xnA15cropped.mp4.\n",
            "Moviepy - Writing video /content/drive/MyDrive/DeepSL/MSASL100/Test/test/uE3IDWh0xnA15cropped.mp4\n",
            "\n"
          ]
        },
        {
          "output_type": "stream",
          "name": "stderr",
          "text": []
        },
        {
          "output_type": "stream",
          "name": "stdout",
          "text": [
            "Moviepy - Done !\n",
            "Moviepy - video ready /content/drive/MyDrive/DeepSL/MSASL100/Test/test/uE3IDWh0xnA15cropped.mp4\n",
            "None\n",
            "Moviepy - Building video /content/drive/MyDrive/DeepSL/MSASL100/Test/test/uE3IDWh0xnA16cropped.mp4.\n",
            "Moviepy - Writing video /content/drive/MyDrive/DeepSL/MSASL100/Test/test/uE3IDWh0xnA16cropped.mp4\n",
            "\n"
          ]
        },
        {
          "output_type": "stream",
          "name": "stderr",
          "text": []
        },
        {
          "output_type": "stream",
          "name": "stdout",
          "text": [
            "Moviepy - Done !\n",
            "Moviepy - video ready /content/drive/MyDrive/DeepSL/MSASL100/Test/test/uE3IDWh0xnA16cropped.mp4\n",
            "None\n",
            "Moviepy - Building video /content/drive/MyDrive/DeepSL/MSASL100/Test/test/uE3IDWh0xnA17cropped.mp4.\n",
            "Moviepy - Writing video /content/drive/MyDrive/DeepSL/MSASL100/Test/test/uE3IDWh0xnA17cropped.mp4\n",
            "\n"
          ]
        },
        {
          "output_type": "stream",
          "name": "stderr",
          "text": []
        },
        {
          "output_type": "stream",
          "name": "stdout",
          "text": [
            "Moviepy - Done !\n",
            "Moviepy - video ready /content/drive/MyDrive/DeepSL/MSASL100/Test/test/uE3IDWh0xnA17cropped.mp4\n",
            "None\n",
            "Moviepy - Building video /content/drive/MyDrive/DeepSL/MSASL100/Test/test/uE3IDWh0xnA18cropped.mp4.\n",
            "Moviepy - Writing video /content/drive/MyDrive/DeepSL/MSASL100/Test/test/uE3IDWh0xnA18cropped.mp4\n",
            "\n"
          ]
        },
        {
          "output_type": "stream",
          "name": "stderr",
          "text": [
            "t:  98%|█████████▊| 41/42 [00:00<00:00, 57.97it/s, now=None]WARNING:py.warnings:/usr/local/lib/python3.10/dist-packages/moviepy/video/io/ffmpeg_reader.py:123: UserWarning: Warning: in file /content/drive/MyDrive/DeepSL/MSASL100/Test/test/uE3IDWh0xnA18.mp4, 876960 bytes wanted but 0 bytes read,at frame 41/42, at time 1.37/1.37 sec. Using the last valid frame instead.\n",
            "  warnings.warn(\"Warning: in file %s, \"%(self.filename)+\n",
            "\n"
          ]
        },
        {
          "output_type": "stream",
          "name": "stdout",
          "text": [
            "Moviepy - Done !\n",
            "Moviepy - video ready /content/drive/MyDrive/DeepSL/MSASL100/Test/test/uE3IDWh0xnA18cropped.mp4\n",
            "None\n",
            "Moviepy - Building video /content/drive/MyDrive/DeepSL/MSASL100/Test/test/uE3IDWh0xnA19cropped.mp4.\n",
            "Moviepy - Writing video /content/drive/MyDrive/DeepSL/MSASL100/Test/test/uE3IDWh0xnA19cropped.mp4\n",
            "\n"
          ]
        },
        {
          "output_type": "stream",
          "name": "stderr",
          "text": [
            "t:  86%|████████▌ | 36/42 [00:00<00:00, 51.74it/s, now=None]WARNING:py.warnings:/usr/local/lib/python3.10/dist-packages/moviepy/video/io/ffmpeg_reader.py:123: UserWarning: Warning: in file /content/drive/MyDrive/DeepSL/MSASL100/Test/test/uE3IDWh0xnA19.mp4, 876960 bytes wanted but 0 bytes read,at frame 41/42, at time 1.37/1.37 sec. Using the last valid frame instead.\n",
            "  warnings.warn(\"Warning: in file %s, \"%(self.filename)+\n",
            "\n"
          ]
        },
        {
          "output_type": "stream",
          "name": "stdout",
          "text": [
            "Moviepy - Done !\n",
            "Moviepy - video ready /content/drive/MyDrive/DeepSL/MSASL100/Test/test/uE3IDWh0xnA19cropped.mp4\n",
            "None\n",
            "Moviepy - Building video /content/drive/MyDrive/DeepSL/MSASL100/Test/test/uE3IDWh0xnA20cropped.mp4.\n",
            "Moviepy - Writing video /content/drive/MyDrive/DeepSL/MSASL100/Test/test/uE3IDWh0xnA20cropped.mp4\n",
            "\n"
          ]
        },
        {
          "output_type": "stream",
          "name": "stderr",
          "text": []
        },
        {
          "output_type": "stream",
          "name": "stdout",
          "text": [
            "Moviepy - Done !\n",
            "Moviepy - video ready /content/drive/MyDrive/DeepSL/MSASL100/Test/test/uE3IDWh0xnA20cropped.mp4\n",
            "None\n",
            "Moviepy - Building video /content/drive/MyDrive/DeepSL/MSASL100/Test/test/uE3IDWh0xnA21cropped.mp4.\n",
            "Moviepy - Writing video /content/drive/MyDrive/DeepSL/MSASL100/Test/test/uE3IDWh0xnA21cropped.mp4\n",
            "\n"
          ]
        },
        {
          "output_type": "stream",
          "name": "stderr",
          "text": []
        },
        {
          "output_type": "stream",
          "name": "stdout",
          "text": [
            "Moviepy - Done !\n",
            "Moviepy - video ready /content/drive/MyDrive/DeepSL/MSASL100/Test/test/uE3IDWh0xnA21cropped.mp4\n",
            "None\n",
            "Moviepy - Building video /content/drive/MyDrive/DeepSL/MSASL100/Test/test/uE3IDWh0xnA22cropped.mp4.\n",
            "Moviepy - Writing video /content/drive/MyDrive/DeepSL/MSASL100/Test/test/uE3IDWh0xnA22cropped.mp4\n",
            "\n"
          ]
        },
        {
          "output_type": "stream",
          "name": "stderr",
          "text": [
            "t:  82%|████████▏ | 37/45 [00:01<00:00, 51.17it/s, now=None]WARNING:py.warnings:/usr/local/lib/python3.10/dist-packages/moviepy/video/io/ffmpeg_reader.py:123: UserWarning: Warning: in file /content/drive/MyDrive/DeepSL/MSASL100/Test/test/uE3IDWh0xnA22.mp4, 876960 bytes wanted but 0 bytes read,at frame 44/45, at time 1.47/1.47 sec. Using the last valid frame instead.\n",
            "  warnings.warn(\"Warning: in file %s, \"%(self.filename)+\n",
            "\n"
          ]
        },
        {
          "output_type": "stream",
          "name": "stdout",
          "text": [
            "Moviepy - Done !\n",
            "Moviepy - video ready /content/drive/MyDrive/DeepSL/MSASL100/Test/test/uE3IDWh0xnA22cropped.mp4\n",
            "None\n"
          ]
        }
      ]
    },
    {
      "cell_type": "code",
      "source": [
        "predicted_coordinates_2, predicted_times_2 = get_time_and_bounding_boxes(video_for_eval_2)"
      ],
      "metadata": {
        "id": "au1ddLqpxMVl",
        "colab": {
          "base_uri": "https://localhost:8080/"
        },
        "outputId": "dc2c590f-94d7-4ce6-e2e9-cde153441a9b"
      },
      "execution_count": 12,
      "outputs": [
        {
          "output_type": "stream",
          "name": "stdout",
          "text": [
            "0.04142042827772929 0.9547789692878723 0.027387136220932 1\n",
            "-0.055117551237344686 1.0211330163180827 0.07518657445907592 1\n",
            "0.36393405521502276 0.6468388438224792 0.07692579329013824 1\n",
            "0.26457902411871315 0.7360380291938782 0.074020916223526 0.9635080456733703\n",
            "0.28606977120593724 0.7145397067070007 0.0724134087562561 1\n",
            "0.1634794195761553 0.8370117545127869 0.02126306444406509 1\n",
            "0.24054416201331397 0.769079327583313 0.07165151238441467 1\n",
            "0.16147286135975913 0.8399679064750671 0.07332679033279418 1\n",
            "0.18252788465234282 0.8180797100067139 0.06878244280815124 1\n",
            "0.20065839754210568 0.8020855188369751 0.07559383809566497 0.8895283102989197\n",
            "0.23397210455802542 0.7729870080947876 0.06663123667240142 1\n",
            "0.1775481517708628 0.8292971253395081 0.06189783811569213 1\n",
            "-0.0034922361373901367 1.0045280412716024 0.062437707185745234 1\n",
            "0.30822622593568294 0.7358564734458923 0.04667730033397674 1\n",
            "Moviepy - Building video /content/drive/MyDrive/DeepSL/MSASL100/Test/test/wqDOKXEx24M1cropped.mp4.\n",
            "Moviepy - Writing video /content/drive/MyDrive/DeepSL/MSASL100/Test/test/wqDOKXEx24M1cropped.mp4\n",
            "\n"
          ]
        },
        {
          "output_type": "stream",
          "name": "stderr",
          "text": [
            "t: 100%|██████████| 96/96 [00:02<00:00, 49.20it/s, now=None]WARNING:py.warnings:/usr/local/lib/python3.10/dist-packages/moviepy/video/io/ffmpeg_reader.py:123: UserWarning: Warning: in file /content/drive/MyDrive/DeepSL/MSASL100/Test/test/wqDOKXEx24M1.mp4, 518400 bytes wanted but 0 bytes read,at frame 95/96, at time 3.96/3.96 sec. Using the last valid frame instead.\n",
            "  warnings.warn(\"Warning: in file %s, \"%(self.filename)+\n",
            "\n"
          ]
        },
        {
          "output_type": "stream",
          "name": "stdout",
          "text": [
            "Moviepy - Done !\n",
            "Moviepy - video ready /content/drive/MyDrive/DeepSL/MSASL100/Test/test/wqDOKXEx24M1cropped.mp4\n",
            "None\n",
            "Moviepy - Building video /content/drive/MyDrive/DeepSL/MSASL100/Test/test/wqDOKXEx24M2cropped.mp4.\n",
            "Moviepy - Writing video /content/drive/MyDrive/DeepSL/MSASL100/Test/test/wqDOKXEx24M2cropped.mp4\n",
            "\n"
          ]
        },
        {
          "output_type": "stream",
          "name": "stderr",
          "text": [
            "t:  82%|████████▏ | 93/113 [00:01<00:00, 125.75it/s, now=None]WARNING:py.warnings:/usr/local/lib/python3.10/dist-packages/moviepy/video/io/ffmpeg_reader.py:123: UserWarning: Warning: in file /content/drive/MyDrive/DeepSL/MSASL100/Test/test/wqDOKXEx24M2.mp4, 518400 bytes wanted but 0 bytes read,at frame 112/113, at time 4.67/4.67 sec. Using the last valid frame instead.\n",
            "  warnings.warn(\"Warning: in file %s, \"%(self.filename)+\n",
            "\n"
          ]
        },
        {
          "output_type": "stream",
          "name": "stdout",
          "text": [
            "Moviepy - Done !\n",
            "Moviepy - video ready /content/drive/MyDrive/DeepSL/MSASL100/Test/test/wqDOKXEx24M2cropped.mp4\n",
            "None\n",
            "Moviepy - Building video /content/drive/MyDrive/DeepSL/MSASL100/Test/test/wqDOKXEx24M3cropped.mp4.\n",
            "Moviepy - Writing video /content/drive/MyDrive/DeepSL/MSASL100/Test/test/wqDOKXEx24M3cropped.mp4\n",
            "\n"
          ]
        },
        {
          "output_type": "stream",
          "name": "stderr",
          "text": [
            "t:   9%|▊         | 3/35 [00:00<00:09,  3.44it/s, now=None]WARNING:py.warnings:/usr/local/lib/python3.10/dist-packages/moviepy/video/io/ffmpeg_reader.py:123: UserWarning: Warning: in file /content/drive/MyDrive/DeepSL/MSASL100/Test/test/wqDOKXEx24M3.mp4, 518400 bytes wanted but 0 bytes read,at frame 34/35, at time 1.42/1.42 sec. Using the last valid frame instead.\n",
            "  warnings.warn(\"Warning: in file %s, \"%(self.filename)+\n",
            "\n"
          ]
        },
        {
          "output_type": "stream",
          "name": "stdout",
          "text": [
            "Moviepy - Done !\n",
            "Moviepy - video ready /content/drive/MyDrive/DeepSL/MSASL100/Test/test/wqDOKXEx24M3cropped.mp4\n",
            "None\n",
            "Moviepy - Building video /content/drive/MyDrive/DeepSL/MSASL100/Test/test/wqDOKXEx24M4cropped.mp4.\n",
            "Moviepy - Writing video /content/drive/MyDrive/DeepSL/MSASL100/Test/test/wqDOKXEx24M4cropped.mp4\n",
            "\n"
          ]
        },
        {
          "output_type": "stream",
          "name": "stderr",
          "text": [
            "t:  93%|█████████▎| 39/42 [00:00<00:00, 55.77it/s, now=None]WARNING:py.warnings:/usr/local/lib/python3.10/dist-packages/moviepy/video/io/ffmpeg_reader.py:123: UserWarning: Warning: in file /content/drive/MyDrive/DeepSL/MSASL100/Test/test/wqDOKXEx24M4.mp4, 518400 bytes wanted but 0 bytes read,at frame 41/42, at time 1.71/1.71 sec. Using the last valid frame instead.\n",
            "  warnings.warn(\"Warning: in file %s, \"%(self.filename)+\n",
            "\n"
          ]
        },
        {
          "output_type": "stream",
          "name": "stdout",
          "text": [
            "Moviepy - Done !\n",
            "Moviepy - video ready /content/drive/MyDrive/DeepSL/MSASL100/Test/test/wqDOKXEx24M4cropped.mp4\n",
            "None\n",
            "Moviepy - Building video /content/drive/MyDrive/DeepSL/MSASL100/Test/test/wqDOKXEx24M5cropped.mp4.\n",
            "Moviepy - Writing video /content/drive/MyDrive/DeepSL/MSASL100/Test/test/wqDOKXEx24M5cropped.mp4\n",
            "\n"
          ]
        },
        {
          "output_type": "stream",
          "name": "stderr",
          "text": []
        },
        {
          "output_type": "stream",
          "name": "stdout",
          "text": [
            "Moviepy - Done !\n",
            "Moviepy - video ready /content/drive/MyDrive/DeepSL/MSASL100/Test/test/wqDOKXEx24M5cropped.mp4\n",
            "None\n",
            "Moviepy - Building video /content/drive/MyDrive/DeepSL/MSASL100/Test/test/wqDOKXEx24M6cropped.mp4.\n",
            "Moviepy - Writing video /content/drive/MyDrive/DeepSL/MSASL100/Test/test/wqDOKXEx24M6cropped.mp4\n",
            "\n"
          ]
        },
        {
          "output_type": "stream",
          "name": "stderr",
          "text": [
            "t:  71%|███████▏  | 30/42 [00:00<00:00, 41.49it/s, now=None]WARNING:py.warnings:/usr/local/lib/python3.10/dist-packages/moviepy/video/io/ffmpeg_reader.py:123: UserWarning: Warning: in file /content/drive/MyDrive/DeepSL/MSASL100/Test/test/wqDOKXEx24M6.mp4, 518400 bytes wanted but 0 bytes read,at frame 41/42, at time 1.71/1.71 sec. Using the last valid frame instead.\n",
            "  warnings.warn(\"Warning: in file %s, \"%(self.filename)+\n",
            "\n"
          ]
        },
        {
          "output_type": "stream",
          "name": "stdout",
          "text": [
            "Moviepy - Done !\n",
            "Moviepy - video ready /content/drive/MyDrive/DeepSL/MSASL100/Test/test/wqDOKXEx24M6cropped.mp4\n",
            "None\n",
            "Moviepy - Building video /content/drive/MyDrive/DeepSL/MSASL100/Test/test/wqDOKXEx24M7cropped.mp4.\n",
            "Moviepy - Writing video /content/drive/MyDrive/DeepSL/MSASL100/Test/test/wqDOKXEx24M7cropped.mp4\n",
            "\n"
          ]
        },
        {
          "output_type": "stream",
          "name": "stderr",
          "text": []
        },
        {
          "output_type": "stream",
          "name": "stdout",
          "text": [
            "Moviepy - Done !\n",
            "Moviepy - video ready /content/drive/MyDrive/DeepSL/MSASL100/Test/test/wqDOKXEx24M7cropped.mp4\n",
            "None\n",
            "Moviepy - Building video /content/drive/MyDrive/DeepSL/MSASL100/Test/test/wqDOKXEx24M8cropped.mp4.\n",
            "Moviepy - Writing video /content/drive/MyDrive/DeepSL/MSASL100/Test/test/wqDOKXEx24M8cropped.mp4\n",
            "\n"
          ]
        },
        {
          "output_type": "stream",
          "name": "stderr",
          "text": []
        },
        {
          "output_type": "stream",
          "name": "stdout",
          "text": [
            "Moviepy - Done !\n",
            "Moviepy - video ready /content/drive/MyDrive/DeepSL/MSASL100/Test/test/wqDOKXEx24M8cropped.mp4\n",
            "None\n",
            "Moviepy - Building video /content/drive/MyDrive/DeepSL/MSASL100/Test/test/wqDOKXEx24M9cropped.mp4.\n",
            "Moviepy - Writing video /content/drive/MyDrive/DeepSL/MSASL100/Test/test/wqDOKXEx24M9cropped.mp4\n",
            "\n"
          ]
        },
        {
          "output_type": "stream",
          "name": "stderr",
          "text": [
            "t:  66%|██████▌   | 31/47 [00:00<00:00, 42.63it/s, now=None]WARNING:py.warnings:/usr/local/lib/python3.10/dist-packages/moviepy/video/io/ffmpeg_reader.py:123: UserWarning: Warning: in file /content/drive/MyDrive/DeepSL/MSASL100/Test/test/wqDOKXEx24M9.mp4, 518400 bytes wanted but 0 bytes read,at frame 46/47, at time 1.92/1.92 sec. Using the last valid frame instead.\n",
            "  warnings.warn(\"Warning: in file %s, \"%(self.filename)+\n",
            "\n"
          ]
        },
        {
          "output_type": "stream",
          "name": "stdout",
          "text": [
            "Moviepy - Done !\n",
            "Moviepy - video ready /content/drive/MyDrive/DeepSL/MSASL100/Test/test/wqDOKXEx24M9cropped.mp4\n",
            "None\n",
            "Moviepy - Building video /content/drive/MyDrive/DeepSL/MSASL100/Test/test/wqDOKXEx24M10cropped.mp4.\n",
            "Moviepy - Writing video /content/drive/MyDrive/DeepSL/MSASL100/Test/test/wqDOKXEx24M10cropped.mp4\n",
            "\n"
          ]
        },
        {
          "output_type": "stream",
          "name": "stderr",
          "text": [
            "t:  92%|█████████▏| 59/64 [00:01<00:00, 32.31it/s, now=None]WARNING:py.warnings:/usr/local/lib/python3.10/dist-packages/moviepy/video/io/ffmpeg_reader.py:123: UserWarning: Warning: in file /content/drive/MyDrive/DeepSL/MSASL100/Test/test/wqDOKXEx24M10.mp4, 518400 bytes wanted but 0 bytes read,at frame 63/64, at time 2.62/2.63 sec. Using the last valid frame instead.\n",
            "  warnings.warn(\"Warning: in file %s, \"%(self.filename)+\n",
            "\n"
          ]
        },
        {
          "output_type": "stream",
          "name": "stdout",
          "text": [
            "Moviepy - Done !\n",
            "Moviepy - video ready /content/drive/MyDrive/DeepSL/MSASL100/Test/test/wqDOKXEx24M10cropped.mp4\n",
            "None\n",
            "Moviepy - Building video /content/drive/MyDrive/DeepSL/MSASL100/Test/test/wqDOKXEx24M11cropped.mp4.\n",
            "Moviepy - Writing video /content/drive/MyDrive/DeepSL/MSASL100/Test/test/wqDOKXEx24M11cropped.mp4\n",
            "\n"
          ]
        },
        {
          "output_type": "stream",
          "name": "stderr",
          "text": []
        },
        {
          "output_type": "stream",
          "name": "stdout",
          "text": [
            "Moviepy - Done !\n",
            "Moviepy - video ready /content/drive/MyDrive/DeepSL/MSASL100/Test/test/wqDOKXEx24M11cropped.mp4\n",
            "None\n",
            "Moviepy - Building video /content/drive/MyDrive/DeepSL/MSASL100/Test/test/wqDOKXEx24M12cropped.mp4.\n",
            "Moviepy - Writing video /content/drive/MyDrive/DeepSL/MSASL100/Test/test/wqDOKXEx24M12cropped.mp4\n",
            "\n"
          ]
        },
        {
          "output_type": "stream",
          "name": "stderr",
          "text": []
        },
        {
          "output_type": "stream",
          "name": "stdout",
          "text": [
            "Moviepy - Done !\n",
            "Moviepy - video ready /content/drive/MyDrive/DeepSL/MSASL100/Test/test/wqDOKXEx24M12cropped.mp4\n",
            "None\n",
            "Moviepy - Building video /content/drive/MyDrive/DeepSL/MSASL100/Test/test/wqDOKXEx24M13cropped.mp4.\n",
            "Moviepy - Writing video /content/drive/MyDrive/DeepSL/MSASL100/Test/test/wqDOKXEx24M13cropped.mp4\n",
            "\n"
          ]
        },
        {
          "output_type": "stream",
          "name": "stderr",
          "text": []
        },
        {
          "output_type": "stream",
          "name": "stdout",
          "text": [
            "Moviepy - Done !\n",
            "Moviepy - video ready /content/drive/MyDrive/DeepSL/MSASL100/Test/test/wqDOKXEx24M13cropped.mp4\n",
            "None\n",
            "Moviepy - Building video /content/drive/MyDrive/DeepSL/MSASL100/Test/test/wqDOKXEx24M14cropped.mp4.\n",
            "Moviepy - Writing video /content/drive/MyDrive/DeepSL/MSASL100/Test/test/wqDOKXEx24M14cropped.mp4\n",
            "\n"
          ]
        },
        {
          "output_type": "stream",
          "name": "stderr",
          "text": []
        },
        {
          "output_type": "stream",
          "name": "stdout",
          "text": [
            "Moviepy - Done !\n",
            "Moviepy - video ready /content/drive/MyDrive/DeepSL/MSASL100/Test/test/wqDOKXEx24M14cropped.mp4\n",
            "None\n"
          ]
        }
      ]
    },
    {
      "cell_type": "code",
      "source": [
        "predicted_coordinates_3, predicted_times_3 = get_time_and_bounding_boxes(video_for_eval_3)"
      ],
      "metadata": {
        "id": "xVz7VRDPxMYX",
        "colab": {
          "base_uri": "https://localhost:8080/"
        },
        "outputId": "95e9876b-e705-4972-9cf0-ad947ef5d27d"
      },
      "execution_count": 13,
      "outputs": [
        {
          "output_type": "stream",
          "name": "stdout",
          "text": [
            "0.1966434594734695 0.7994307279586792 0 1\n",
            "0.32176852226257324 0.6646286362204059 0 1\n",
            "0.32810961572747477 0.6443276405334473 0 1\n",
            "0.33872190040427363 0.6652841567993164 0 0.9834611177444458\n",
            "0.3482055023864463 0.6202065944671631 0 1\n",
            "0.3333608815446496 0.6770268082618713 0 0.9760272264480591\n",
            "0.17375617990126968 0.8021285533905029 0 0.9714245557785034\n",
            "0.30811959505081177 0.6959267896154653 0 0.9194038271903991\n",
            "0.22739712036017212 0.7530432939529419 0 0.9731442093849182\n",
            "0.2632145945165978 0.7204174995422363 0 1\n",
            "0.37650540471076965 0.6272766079551491 0 0.8627050876617431\n",
            "0.2515828013420105 0.7496342341950599 0 1\n",
            "0.21974346041679382 0.7733795526235 0 0.9977992534637451\n",
            "0.3500645911693572 0.6430473327636719 0 1\n",
            "0.27241846919059753 0.6983198760411677 0.005595633387565607 1\n",
            "0.3292308449745178 0.6522315629781821 0.011155644059181208 0.9794020414352417\n",
            "Moviepy - Building video /content/drive/MyDrive/DeepSL/MSASL100/Test/test/IKfQ-Cra9Bc1cropped.mp4.\n",
            "Moviepy - Writing video /content/drive/MyDrive/DeepSL/MSASL100/Test/test/IKfQ-Cra9Bc1cropped.mp4\n",
            "\n"
          ]
        },
        {
          "output_type": "stream",
          "name": "stderr",
          "text": []
        },
        {
          "output_type": "stream",
          "name": "stdout",
          "text": [
            "Moviepy - Done !\n",
            "Moviepy - video ready /content/drive/MyDrive/DeepSL/MSASL100/Test/test/IKfQ-Cra9Bc1cropped.mp4\n",
            "None\n",
            "Moviepy - Building video /content/drive/MyDrive/DeepSL/MSASL100/Test/test/IKfQ-Cra9Bc2cropped.mp4.\n",
            "Moviepy - Writing video /content/drive/MyDrive/DeepSL/MSASL100/Test/test/IKfQ-Cra9Bc2cropped.mp4\n",
            "\n"
          ]
        },
        {
          "output_type": "stream",
          "name": "stderr",
          "text": []
        },
        {
          "output_type": "stream",
          "name": "stdout",
          "text": [
            "Moviepy - Done !\n",
            "Moviepy - video ready /content/drive/MyDrive/DeepSL/MSASL100/Test/test/IKfQ-Cra9Bc2cropped.mp4\n",
            "None\n",
            "Moviepy - Building video /content/drive/MyDrive/DeepSL/MSASL100/Test/test/IKfQ-Cra9Bc3cropped.mp4.\n",
            "Moviepy - Writing video /content/drive/MyDrive/DeepSL/MSASL100/Test/test/IKfQ-Cra9Bc3cropped.mp4\n",
            "\n"
          ]
        },
        {
          "output_type": "stream",
          "name": "stderr",
          "text": [
            "t:  76%|███████▌  | 16/21 [00:00<00:00, 21.39it/s, now=None]WARNING:py.warnings:/usr/local/lib/python3.10/dist-packages/moviepy/video/io/ffmpeg_reader.py:123: UserWarning: Warning: in file /content/drive/MyDrive/DeepSL/MSASL100/Test/test/IKfQ-Cra9Bc3.mp4, 691200 bytes wanted but 0 bytes read,at frame 20/21, at time 0.67/0.67 sec. Using the last valid frame instead.\n",
            "  warnings.warn(\"Warning: in file %s, \"%(self.filename)+\n",
            "\n"
          ]
        },
        {
          "output_type": "stream",
          "name": "stdout",
          "text": [
            "Moviepy - Done !\n",
            "Moviepy - video ready /content/drive/MyDrive/DeepSL/MSASL100/Test/test/IKfQ-Cra9Bc3cropped.mp4\n",
            "None\n",
            "Moviepy - Building video /content/drive/MyDrive/DeepSL/MSASL100/Test/test/IKfQ-Cra9Bc4cropped.mp4.\n",
            "Moviepy - Writing video /content/drive/MyDrive/DeepSL/MSASL100/Test/test/IKfQ-Cra9Bc4cropped.mp4\n",
            "\n"
          ]
        },
        {
          "output_type": "stream",
          "name": "stderr",
          "text": [
            "t:  86%|████████▌ | 36/42 [00:01<00:00, 53.21it/s, now=None]WARNING:py.warnings:/usr/local/lib/python3.10/dist-packages/moviepy/video/io/ffmpeg_reader.py:123: UserWarning: Warning: in file /content/drive/MyDrive/DeepSL/MSASL100/Test/test/IKfQ-Cra9Bc4.mp4, 691200 bytes wanted but 0 bytes read,at frame 41/42, at time 1.37/1.37 sec. Using the last valid frame instead.\n",
            "  warnings.warn(\"Warning: in file %s, \"%(self.filename)+\n",
            "\n"
          ]
        },
        {
          "output_type": "stream",
          "name": "stdout",
          "text": [
            "Moviepy - Done !\n",
            "Moviepy - video ready /content/drive/MyDrive/DeepSL/MSASL100/Test/test/IKfQ-Cra9Bc4cropped.mp4\n",
            "None\n",
            "Moviepy - Building video /content/drive/MyDrive/DeepSL/MSASL100/Test/test/IKfQ-Cra9Bc5cropped.mp4.\n",
            "Moviepy - Writing video /content/drive/MyDrive/DeepSL/MSASL100/Test/test/IKfQ-Cra9Bc5cropped.mp4\n",
            "\n"
          ]
        },
        {
          "output_type": "stream",
          "name": "stderr",
          "text": []
        },
        {
          "output_type": "stream",
          "name": "stdout",
          "text": [
            "Moviepy - Done !\n",
            "Moviepy - video ready /content/drive/MyDrive/DeepSL/MSASL100/Test/test/IKfQ-Cra9Bc5cropped.mp4\n",
            "None\n",
            "Moviepy - Building video /content/drive/MyDrive/DeepSL/MSASL100/Test/test/IKfQ-Cra9Bc6cropped.mp4.\n",
            "Moviepy - Writing video /content/drive/MyDrive/DeepSL/MSASL100/Test/test/IKfQ-Cra9Bc6cropped.mp4\n",
            "\n"
          ]
        },
        {
          "output_type": "stream",
          "name": "stderr",
          "text": []
        },
        {
          "output_type": "stream",
          "name": "stdout",
          "text": [
            "Moviepy - Done !\n",
            "Moviepy - video ready /content/drive/MyDrive/DeepSL/MSASL100/Test/test/IKfQ-Cra9Bc6cropped.mp4\n",
            "None\n",
            "Moviepy - Building video /content/drive/MyDrive/DeepSL/MSASL100/Test/test/IKfQ-Cra9Bc7cropped.mp4.\n",
            "Moviepy - Writing video /content/drive/MyDrive/DeepSL/MSASL100/Test/test/IKfQ-Cra9Bc7cropped.mp4\n",
            "\n"
          ]
        },
        {
          "output_type": "stream",
          "name": "stderr",
          "text": [
            "t:  83%|████████▎ | 40/48 [00:01<00:00, 56.51it/s, now=None]WARNING:py.warnings:/usr/local/lib/python3.10/dist-packages/moviepy/video/io/ffmpeg_reader.py:123: UserWarning: Warning: in file /content/drive/MyDrive/DeepSL/MSASL100/Test/test/IKfQ-Cra9Bc7.mp4, 691200 bytes wanted but 0 bytes read,at frame 47/48, at time 1.57/1.57 sec. Using the last valid frame instead.\n",
            "  warnings.warn(\"Warning: in file %s, \"%(self.filename)+\n",
            "\n"
          ]
        },
        {
          "output_type": "stream",
          "name": "stdout",
          "text": [
            "Moviepy - Done !\n",
            "Moviepy - video ready /content/drive/MyDrive/DeepSL/MSASL100/Test/test/IKfQ-Cra9Bc7cropped.mp4\n",
            "None\n",
            "Moviepy - Building video /content/drive/MyDrive/DeepSL/MSASL100/Test/test/IKfQ-Cra9Bc8cropped.mp4.\n",
            "Moviepy - Writing video /content/drive/MyDrive/DeepSL/MSASL100/Test/test/IKfQ-Cra9Bc8cropped.mp4\n",
            "\n"
          ]
        },
        {
          "output_type": "stream",
          "name": "stderr",
          "text": []
        },
        {
          "output_type": "stream",
          "name": "stdout",
          "text": [
            "Moviepy - Done !\n",
            "Moviepy - video ready /content/drive/MyDrive/DeepSL/MSASL100/Test/test/IKfQ-Cra9Bc8cropped.mp4\n",
            "None\n",
            "Moviepy - Building video /content/drive/MyDrive/DeepSL/MSASL100/Test/test/IKfQ-Cra9Bc9cropped.mp4.\n",
            "Moviepy - Writing video /content/drive/MyDrive/DeepSL/MSASL100/Test/test/IKfQ-Cra9Bc9cropped.mp4\n",
            "\n"
          ]
        },
        {
          "output_type": "stream",
          "name": "stderr",
          "text": [
            "t:  84%|████████▍ | 42/50 [00:01<00:00, 56.94it/s, now=None]WARNING:py.warnings:/usr/local/lib/python3.10/dist-packages/moviepy/video/io/ffmpeg_reader.py:123: UserWarning: Warning: in file /content/drive/MyDrive/DeepSL/MSASL100/Test/test/IKfQ-Cra9Bc9.mp4, 691200 bytes wanted but 0 bytes read,at frame 49/50, at time 1.63/1.64 sec. Using the last valid frame instead.\n",
            "  warnings.warn(\"Warning: in file %s, \"%(self.filename)+\n",
            "\n"
          ]
        },
        {
          "output_type": "stream",
          "name": "stdout",
          "text": [
            "Moviepy - Done !\n",
            "Moviepy - video ready /content/drive/MyDrive/DeepSL/MSASL100/Test/test/IKfQ-Cra9Bc9cropped.mp4\n",
            "None\n",
            "Moviepy - Building video /content/drive/MyDrive/DeepSL/MSASL100/Test/test/IKfQ-Cra9Bc10cropped.mp4.\n",
            "Moviepy - Writing video /content/drive/MyDrive/DeepSL/MSASL100/Test/test/IKfQ-Cra9Bc10cropped.mp4\n",
            "\n"
          ]
        },
        {
          "output_type": "stream",
          "name": "stderr",
          "text": [
            "t:  96%|█████████▌| 65/68 [00:01<00:00, 76.93it/s, now=None]WARNING:py.warnings:/usr/local/lib/python3.10/dist-packages/moviepy/video/io/ffmpeg_reader.py:123: UserWarning: Warning: in file /content/drive/MyDrive/DeepSL/MSASL100/Test/test/IKfQ-Cra9Bc10.mp4, 691200 bytes wanted but 0 bytes read,at frame 67/68, at time 2.24/2.24 sec. Using the last valid frame instead.\n",
            "  warnings.warn(\"Warning: in file %s, \"%(self.filename)+\n",
            "\n"
          ]
        },
        {
          "output_type": "stream",
          "name": "stdout",
          "text": [
            "Moviepy - Done !\n",
            "Moviepy - video ready /content/drive/MyDrive/DeepSL/MSASL100/Test/test/IKfQ-Cra9Bc10cropped.mp4\n",
            "None\n",
            "Moviepy - Building video /content/drive/MyDrive/DeepSL/MSASL100/Test/test/IKfQ-Cra9Bc11cropped.mp4.\n",
            "Moviepy - Writing video /content/drive/MyDrive/DeepSL/MSASL100/Test/test/IKfQ-Cra9Bc11cropped.mp4\n",
            "\n"
          ]
        },
        {
          "output_type": "stream",
          "name": "stderr",
          "text": [
            "t:  87%|████████▋ | 59/68 [00:01<00:00, 67.99it/s, now=None]WARNING:py.warnings:/usr/local/lib/python3.10/dist-packages/moviepy/video/io/ffmpeg_reader.py:123: UserWarning: Warning: in file /content/drive/MyDrive/DeepSL/MSASL100/Test/test/IKfQ-Cra9Bc11.mp4, 691200 bytes wanted but 0 bytes read,at frame 67/68, at time 2.24/2.24 sec. Using the last valid frame instead.\n",
            "  warnings.warn(\"Warning: in file %s, \"%(self.filename)+\n",
            "\n"
          ]
        },
        {
          "output_type": "stream",
          "name": "stdout",
          "text": [
            "Moviepy - Done !\n",
            "Moviepy - video ready /content/drive/MyDrive/DeepSL/MSASL100/Test/test/IKfQ-Cra9Bc11cropped.mp4\n",
            "None\n",
            "Moviepy - Building video /content/drive/MyDrive/DeepSL/MSASL100/Test/test/IKfQ-Cra9Bc12cropped.mp4.\n",
            "Moviepy - Writing video /content/drive/MyDrive/DeepSL/MSASL100/Test/test/IKfQ-Cra9Bc12cropped.mp4\n",
            "\n"
          ]
        },
        {
          "output_type": "stream",
          "name": "stderr",
          "text": [
            "t:  97%|█████████▋| 64/66 [00:02<00:00, 28.35it/s, now=None]WARNING:py.warnings:/usr/local/lib/python3.10/dist-packages/moviepy/video/io/ffmpeg_reader.py:123: UserWarning: Warning: in file /content/drive/MyDrive/DeepSL/MSASL100/Test/test/IKfQ-Cra9Bc12.mp4, 691200 bytes wanted but 0 bytes read,at frame 65/66, at time 2.17/2.17 sec. Using the last valid frame instead.\n",
            "  warnings.warn(\"Warning: in file %s, \"%(self.filename)+\n",
            "\n"
          ]
        },
        {
          "output_type": "stream",
          "name": "stdout",
          "text": [
            "Moviepy - Done !\n",
            "Moviepy - video ready /content/drive/MyDrive/DeepSL/MSASL100/Test/test/IKfQ-Cra9Bc12cropped.mp4\n",
            "None\n",
            "Moviepy - Building video /content/drive/MyDrive/DeepSL/MSASL100/Test/test/IKfQ-Cra9Bc13cropped.mp4.\n",
            "Moviepy - Writing video /content/drive/MyDrive/DeepSL/MSASL100/Test/test/IKfQ-Cra9Bc13cropped.mp4\n",
            "\n"
          ]
        },
        {
          "output_type": "stream",
          "name": "stderr",
          "text": [
            "t:  93%|█████████▎| 55/59 [00:01<00:00, 54.04it/s, now=None]WARNING:py.warnings:/usr/local/lib/python3.10/dist-packages/moviepy/video/io/ffmpeg_reader.py:123: UserWarning: Warning: in file /content/drive/MyDrive/DeepSL/MSASL100/Test/test/IKfQ-Cra9Bc13.mp4, 691200 bytes wanted but 0 bytes read,at frame 58/59, at time 1.94/1.94 sec. Using the last valid frame instead.\n",
            "  warnings.warn(\"Warning: in file %s, \"%(self.filename)+\n",
            "\n"
          ]
        },
        {
          "output_type": "stream",
          "name": "stdout",
          "text": [
            "Moviepy - Done !\n",
            "Moviepy - video ready /content/drive/MyDrive/DeepSL/MSASL100/Test/test/IKfQ-Cra9Bc13cropped.mp4\n",
            "None\n",
            "Moviepy - Building video /content/drive/MyDrive/DeepSL/MSASL100/Test/test/IKfQ-Cra9Bc14cropped.mp4.\n",
            "Moviepy - Writing video /content/drive/MyDrive/DeepSL/MSASL100/Test/test/IKfQ-Cra9Bc14cropped.mp4\n",
            "\n"
          ]
        },
        {
          "output_type": "stream",
          "name": "stderr",
          "text": [
            "t:  87%|████████▋ | 54/62 [00:01<00:00, 70.84it/s, now=None]WARNING:py.warnings:/usr/local/lib/python3.10/dist-packages/moviepy/video/io/ffmpeg_reader.py:123: UserWarning: Warning: in file /content/drive/MyDrive/DeepSL/MSASL100/Test/test/IKfQ-Cra9Bc14.mp4, 691200 bytes wanted but 0 bytes read,at frame 61/62, at time 2.04/2.04 sec. Using the last valid frame instead.\n",
            "  warnings.warn(\"Warning: in file %s, \"%(self.filename)+\n",
            "\n"
          ]
        },
        {
          "output_type": "stream",
          "name": "stdout",
          "text": [
            "Moviepy - Done !\n",
            "Moviepy - video ready /content/drive/MyDrive/DeepSL/MSASL100/Test/test/IKfQ-Cra9Bc14cropped.mp4\n",
            "None\n",
            "Moviepy - Building video /content/drive/MyDrive/DeepSL/MSASL100/Test/test/IKfQ-Cra9Bc15cropped.mp4.\n",
            "Moviepy - Writing video /content/drive/MyDrive/DeepSL/MSASL100/Test/test/IKfQ-Cra9Bc15cropped.mp4\n",
            "\n"
          ]
        },
        {
          "output_type": "stream",
          "name": "stderr",
          "text": [
            "t:  85%|████████▍ | 66/78 [00:01<00:00, 70.29it/s, now=None]WARNING:py.warnings:/usr/local/lib/python3.10/dist-packages/moviepy/video/io/ffmpeg_reader.py:123: UserWarning: Warning: in file /content/drive/MyDrive/DeepSL/MSASL100/Test/test/IKfQ-Cra9Bc15.mp4, 691200 bytes wanted but 0 bytes read,at frame 77/78, at time 2.57/2.57 sec. Using the last valid frame instead.\n",
            "  warnings.warn(\"Warning: in file %s, \"%(self.filename)+\n",
            "\n"
          ]
        },
        {
          "output_type": "stream",
          "name": "stdout",
          "text": [
            "Moviepy - Done !\n",
            "Moviepy - video ready /content/drive/MyDrive/DeepSL/MSASL100/Test/test/IKfQ-Cra9Bc15cropped.mp4\n",
            "None\n",
            "Moviepy - Building video /content/drive/MyDrive/DeepSL/MSASL100/Test/test/IKfQ-Cra9Bc16cropped.mp4.\n",
            "Moviepy - Writing video /content/drive/MyDrive/DeepSL/MSASL100/Test/test/IKfQ-Cra9Bc16cropped.mp4\n",
            "\n"
          ]
        },
        {
          "output_type": "stream",
          "name": "stderr",
          "text": []
        },
        {
          "output_type": "stream",
          "name": "stdout",
          "text": [
            "Moviepy - Done !\n",
            "Moviepy - video ready /content/drive/MyDrive/DeepSL/MSASL100/Test/test/IKfQ-Cra9Bc16cropped.mp4\n",
            "None\n"
          ]
        }
      ]
    },
    {
      "cell_type": "code",
      "source": [
        "predicted_coordinates_4, predicted_times_4 = get_time_and_bounding_boxes(video_for_eval_4)"
      ],
      "metadata": {
        "id": "9HC1-62axMg7",
        "colab": {
          "base_uri": "https://localhost:8080/"
        },
        "outputId": "f508ee13-8830-47d4-e2e1-b54e3ee92c8b"
      },
      "execution_count": 14,
      "outputs": [
        {
          "output_type": "stream",
          "name": "stdout",
          "text": [
            "0.08623680472373962 0.9116691966087391 0.2636116981506348 1\n",
            "0.10564833879470825 0.8943516612052917 0.26496543884277346 1\n",
            "-0.005754455924034174 1.0038671099713872 0.2998075127601624 1\n",
            "-0.013339251279830933 1.013339251279831 0.36739673614501955 1\n",
            "-0.27235034108161926 1.2704964600227497 0.370405250787735 1\n",
            "0.13037604093551636 0.8696239590644836 0.4 1\n",
            "0.15192805230617523 0.8480719476938248 0.19426825046539306 1\n",
            "0.13673464953899384 0.8632653504610062 0.32075449228286745 1\n",
            "0.04630465805530548 0.9536953419446945 0.30172553062438967 1\n",
            "0.031773582100868225 0.9682264178991318 0.4 1\n",
            "-0.10973282903432846 1.1097328290343285 0.35717823505401614 1\n",
            "-0.03954375268500532 0.9956858158111572 0.2502406179904938 1\n",
            "0.15678399801254272 0.8432160019874573 0.3908917248249054 1\n",
            "0.09763704240322113 0.9023629575967789 0.35691251754760744 1\n",
            "-0.22208942472934723 1.2220894247293472 0.27373489141464236 1\n",
            "0.07778096199035645 0.9222190380096436 0.2909488916397095 1\n",
            "Moviepy - Building video /content/drive/MyDrive/DeepSL/MSASL100/Test/test/kwCfdkhc37c1cropped.mp4.\n",
            "Moviepy - Writing video /content/drive/MyDrive/DeepSL/MSASL100/Test/test/kwCfdkhc37c1cropped.mp4\n",
            "\n"
          ]
        },
        {
          "output_type": "stream",
          "name": "stderr",
          "text": []
        },
        {
          "output_type": "stream",
          "name": "stdout",
          "text": [
            "Moviepy - Done !\n",
            "Moviepy - video ready /content/drive/MyDrive/DeepSL/MSASL100/Test/test/kwCfdkhc37c1cropped.mp4\n",
            "None\n",
            "Moviepy - Building video /content/drive/MyDrive/DeepSL/MSASL100/Test/test/kwCfdkhc37c2cropped.mp4.\n",
            "Moviepy - Writing video /content/drive/MyDrive/DeepSL/MSASL100/Test/test/kwCfdkhc37c2cropped.mp4\n",
            "\n"
          ]
        },
        {
          "output_type": "stream",
          "name": "stderr",
          "text": [
            "t: 100%|██████████| 66/66 [00:02<00:00, 33.87it/s, now=None]WARNING:py.warnings:/usr/local/lib/python3.10/dist-packages/moviepy/video/io/ffmpeg_reader.py:123: UserWarning: Warning: in file /content/drive/MyDrive/DeepSL/MSASL100/Test/test/kwCfdkhc37c2.mp4, 876960 bytes wanted but 0 bytes read,at frame 65/66, at time 2.17/2.17 sec. Using the last valid frame instead.\n",
            "  warnings.warn(\"Warning: in file %s, \"%(self.filename)+\n",
            "\n"
          ]
        },
        {
          "output_type": "stream",
          "name": "stdout",
          "text": [
            "Moviepy - Done !\n",
            "Moviepy - video ready /content/drive/MyDrive/DeepSL/MSASL100/Test/test/kwCfdkhc37c2cropped.mp4\n",
            "None\n",
            "Moviepy - Building video /content/drive/MyDrive/DeepSL/MSASL100/Test/test/kwCfdkhc37c3cropped.mp4.\n",
            "Moviepy - Writing video /content/drive/MyDrive/DeepSL/MSASL100/Test/test/kwCfdkhc37c3cropped.mp4\n",
            "\n"
          ]
        },
        {
          "output_type": "stream",
          "name": "stderr",
          "text": []
        },
        {
          "output_type": "stream",
          "name": "stdout",
          "text": [
            "Moviepy - Done !\n",
            "Moviepy - video ready /content/drive/MyDrive/DeepSL/MSASL100/Test/test/kwCfdkhc37c3cropped.mp4\n",
            "None\n",
            "Moviepy - Building video /content/drive/MyDrive/DeepSL/MSASL100/Test/test/kwCfdkhc37c4cropped.mp4.\n",
            "Moviepy - Writing video /content/drive/MyDrive/DeepSL/MSASL100/Test/test/kwCfdkhc37c4cropped.mp4\n",
            "\n"
          ]
        },
        {
          "output_type": "stream",
          "name": "stderr",
          "text": [
            "t:  96%|█████████▌| 46/48 [00:00<00:00, 66.23it/s, now=None]WARNING:py.warnings:/usr/local/lib/python3.10/dist-packages/moviepy/video/io/ffmpeg_reader.py:123: UserWarning: Warning: in file /content/drive/MyDrive/DeepSL/MSASL100/Test/test/kwCfdkhc37c4.mp4, 876960 bytes wanted but 0 bytes read,at frame 47/48, at time 1.57/1.57 sec. Using the last valid frame instead.\n",
            "  warnings.warn(\"Warning: in file %s, \"%(self.filename)+\n",
            "\n"
          ]
        },
        {
          "output_type": "stream",
          "name": "stdout",
          "text": [
            "Moviepy - Done !\n",
            "Moviepy - video ready /content/drive/MyDrive/DeepSL/MSASL100/Test/test/kwCfdkhc37c4cropped.mp4\n",
            "None\n",
            "Moviepy - Building video /content/drive/MyDrive/DeepSL/MSASL100/Test/test/kwCfdkhc37c5cropped.mp4.\n",
            "Moviepy - Writing video /content/drive/MyDrive/DeepSL/MSASL100/Test/test/kwCfdkhc37c5cropped.mp4\n",
            "\n"
          ]
        },
        {
          "output_type": "stream",
          "name": "stderr",
          "text": []
        },
        {
          "output_type": "stream",
          "name": "stdout",
          "text": [
            "Moviepy - Done !\n",
            "Moviepy - video ready /content/drive/MyDrive/DeepSL/MSASL100/Test/test/kwCfdkhc37c5cropped.mp4\n",
            "None\n",
            "Moviepy - Building video /content/drive/MyDrive/DeepSL/MSASL100/Test/test/kwCfdkhc37c6cropped.mp4.\n",
            "Moviepy - Writing video /content/drive/MyDrive/DeepSL/MSASL100/Test/test/kwCfdkhc37c6cropped.mp4\n",
            "\n"
          ]
        },
        {
          "output_type": "stream",
          "name": "stderr",
          "text": []
        },
        {
          "output_type": "stream",
          "name": "stdout",
          "text": [
            "Moviepy - Done !\n",
            "Moviepy - video ready /content/drive/MyDrive/DeepSL/MSASL100/Test/test/kwCfdkhc37c6cropped.mp4\n",
            "None\n",
            "Moviepy - Building video /content/drive/MyDrive/DeepSL/MSASL100/Test/test/kwCfdkhc37c7cropped.mp4.\n",
            "Moviepy - Writing video /content/drive/MyDrive/DeepSL/MSASL100/Test/test/kwCfdkhc37c7cropped.mp4\n",
            "\n"
          ]
        },
        {
          "output_type": "stream",
          "name": "stderr",
          "text": []
        },
        {
          "output_type": "stream",
          "name": "stdout",
          "text": [
            "Moviepy - Done !\n",
            "Moviepy - video ready /content/drive/MyDrive/DeepSL/MSASL100/Test/test/kwCfdkhc37c7cropped.mp4\n",
            "None\n",
            "Moviepy - Building video /content/drive/MyDrive/DeepSL/MSASL100/Test/test/kwCfdkhc37c8cropped.mp4.\n",
            "Moviepy - Writing video /content/drive/MyDrive/DeepSL/MSASL100/Test/test/kwCfdkhc37c8cropped.mp4\n",
            "\n"
          ]
        },
        {
          "output_type": "stream",
          "name": "stderr",
          "text": []
        },
        {
          "output_type": "stream",
          "name": "stdout",
          "text": [
            "Moviepy - Done !\n",
            "Moviepy - video ready /content/drive/MyDrive/DeepSL/MSASL100/Test/test/kwCfdkhc37c8cropped.mp4\n",
            "None\n",
            "Moviepy - Building video /content/drive/MyDrive/DeepSL/MSASL100/Test/test/kwCfdkhc37c9cropped.mp4.\n",
            "Moviepy - Writing video /content/drive/MyDrive/DeepSL/MSASL100/Test/test/kwCfdkhc37c9cropped.mp4\n",
            "\n"
          ]
        },
        {
          "output_type": "stream",
          "name": "stderr",
          "text": [
            "t:  98%|█████████▊| 47/48 [00:03<00:00, 18.79it/s, now=None]WARNING:py.warnings:/usr/local/lib/python3.10/dist-packages/moviepy/video/io/ffmpeg_reader.py:123: UserWarning: Warning: in file /content/drive/MyDrive/DeepSL/MSASL100/Test/test/kwCfdkhc37c9.mp4, 876960 bytes wanted but 0 bytes read,at frame 47/48, at time 1.57/1.57 sec. Using the last valid frame instead.\n",
            "  warnings.warn(\"Warning: in file %s, \"%(self.filename)+\n",
            "\n"
          ]
        },
        {
          "output_type": "stream",
          "name": "stdout",
          "text": [
            "Moviepy - Done !\n",
            "Moviepy - video ready /content/drive/MyDrive/DeepSL/MSASL100/Test/test/kwCfdkhc37c9cropped.mp4\n",
            "None\n",
            "Moviepy - Building video /content/drive/MyDrive/DeepSL/MSASL100/Test/test/kwCfdkhc37c10cropped.mp4.\n",
            "Moviepy - Writing video /content/drive/MyDrive/DeepSL/MSASL100/Test/test/kwCfdkhc37c10cropped.mp4\n",
            "\n"
          ]
        },
        {
          "output_type": "stream",
          "name": "stderr",
          "text": [
            "t:  93%|█████████▎| 39/42 [00:01<00:00, 40.89it/s, now=None]WARNING:py.warnings:/usr/local/lib/python3.10/dist-packages/moviepy/video/io/ffmpeg_reader.py:123: UserWarning: Warning: in file /content/drive/MyDrive/DeepSL/MSASL100/Test/test/kwCfdkhc37c10.mp4, 876960 bytes wanted but 0 bytes read,at frame 41/42, at time 1.37/1.37 sec. Using the last valid frame instead.\n",
            "  warnings.warn(\"Warning: in file %s, \"%(self.filename)+\n",
            "\n"
          ]
        },
        {
          "output_type": "stream",
          "name": "stdout",
          "text": [
            "Moviepy - Done !\n",
            "Moviepy - video ready /content/drive/MyDrive/DeepSL/MSASL100/Test/test/kwCfdkhc37c10cropped.mp4\n",
            "None\n",
            "Moviepy - Building video /content/drive/MyDrive/DeepSL/MSASL100/Test/test/kwCfdkhc37c11cropped.mp4.\n",
            "Moviepy - Writing video /content/drive/MyDrive/DeepSL/MSASL100/Test/test/kwCfdkhc37c11cropped.mp4\n",
            "\n"
          ]
        },
        {
          "output_type": "stream",
          "name": "stderr",
          "text": []
        },
        {
          "output_type": "stream",
          "name": "stdout",
          "text": [
            "Moviepy - Done !\n",
            "Moviepy - video ready /content/drive/MyDrive/DeepSL/MSASL100/Test/test/kwCfdkhc37c11cropped.mp4\n",
            "None\n",
            "Moviepy - Building video /content/drive/MyDrive/DeepSL/MSASL100/Test/test/kwCfdkhc37c12cropped.mp4.\n",
            "Moviepy - Writing video /content/drive/MyDrive/DeepSL/MSASL100/Test/test/kwCfdkhc37c12cropped.mp4\n",
            "\n"
          ]
        },
        {
          "output_type": "stream",
          "name": "stderr",
          "text": []
        },
        {
          "output_type": "stream",
          "name": "stdout",
          "text": [
            "Moviepy - Done !\n",
            "Moviepy - video ready /content/drive/MyDrive/DeepSL/MSASL100/Test/test/kwCfdkhc37c12cropped.mp4\n",
            "None\n",
            "Moviepy - Building video /content/drive/MyDrive/DeepSL/MSASL100/Test/test/kwCfdkhc37c13cropped.mp4.\n",
            "Moviepy - Writing video /content/drive/MyDrive/DeepSL/MSASL100/Test/test/kwCfdkhc37c13cropped.mp4\n",
            "\n"
          ]
        },
        {
          "output_type": "stream",
          "name": "stderr",
          "text": []
        },
        {
          "output_type": "stream",
          "name": "stdout",
          "text": [
            "Moviepy - Done !\n",
            "Moviepy - video ready /content/drive/MyDrive/DeepSL/MSASL100/Test/test/kwCfdkhc37c13cropped.mp4\n",
            "None\n",
            "Moviepy - Building video /content/drive/MyDrive/DeepSL/MSASL100/Test/test/kwCfdkhc37c14cropped.mp4.\n",
            "Moviepy - Writing video /content/drive/MyDrive/DeepSL/MSASL100/Test/test/kwCfdkhc37c14cropped.mp4\n",
            "\n"
          ]
        },
        {
          "output_type": "stream",
          "name": "stderr",
          "text": []
        },
        {
          "output_type": "stream",
          "name": "stdout",
          "text": [
            "Moviepy - Done !\n",
            "Moviepy - video ready /content/drive/MyDrive/DeepSL/MSASL100/Test/test/kwCfdkhc37c14cropped.mp4\n",
            "None\n",
            "Moviepy - Building video /content/drive/MyDrive/DeepSL/MSASL100/Test/test/kwCfdkhc37c15cropped.mp4.\n",
            "Moviepy - Writing video /content/drive/MyDrive/DeepSL/MSASL100/Test/test/kwCfdkhc37c15cropped.mp4\n",
            "\n"
          ]
        },
        {
          "output_type": "stream",
          "name": "stderr",
          "text": [
            "t:  89%|████████▉ | 40/45 [00:00<00:00, 58.56it/s, now=None]WARNING:py.warnings:/usr/local/lib/python3.10/dist-packages/moviepy/video/io/ffmpeg_reader.py:123: UserWarning: Warning: in file /content/drive/MyDrive/DeepSL/MSASL100/Test/test/kwCfdkhc37c15.mp4, 876960 bytes wanted but 0 bytes read,at frame 44/45, at time 1.47/1.47 sec. Using the last valid frame instead.\n",
            "  warnings.warn(\"Warning: in file %s, \"%(self.filename)+\n",
            "\n"
          ]
        },
        {
          "output_type": "stream",
          "name": "stdout",
          "text": [
            "Moviepy - Done !\n",
            "Moviepy - video ready /content/drive/MyDrive/DeepSL/MSASL100/Test/test/kwCfdkhc37c15cropped.mp4\n",
            "None\n",
            "Moviepy - Building video /content/drive/MyDrive/DeepSL/MSASL100/Test/test/kwCfdkhc37c16cropped.mp4.\n",
            "Moviepy - Writing video /content/drive/MyDrive/DeepSL/MSASL100/Test/test/kwCfdkhc37c16cropped.mp4\n",
            "\n"
          ]
        },
        {
          "output_type": "stream",
          "name": "stderr",
          "text": [
            "t:  96%|█████████▋| 107/111 [00:02<00:00, 43.51it/s, now=None]WARNING:py.warnings:/usr/local/lib/python3.10/dist-packages/moviepy/video/io/ffmpeg_reader.py:123: UserWarning: Warning: in file /content/drive/MyDrive/DeepSL/MSASL100/Test/test/kwCfdkhc37c16.mp4, 876960 bytes wanted but 0 bytes read,at frame 110/111, at time 3.67/3.67 sec. Using the last valid frame instead.\n",
            "  warnings.warn(\"Warning: in file %s, \"%(self.filename)+\n",
            "\n"
          ]
        },
        {
          "output_type": "stream",
          "name": "stdout",
          "text": [
            "Moviepy - Done !\n",
            "Moviepy - video ready /content/drive/MyDrive/DeepSL/MSASL100/Test/test/kwCfdkhc37c16cropped.mp4\n",
            "None\n"
          ]
        }
      ]
    },
    {
      "cell_type": "code",
      "source": [
        "predicted_coordinates_5, predicted_times_5 = get_time_and_bounding_boxes(video_for_eval_5)"
      ],
      "metadata": {
        "id": "B6vcXWIYxMoE",
        "colab": {
          "base_uri": "https://localhost:8080/"
        },
        "outputId": "5d06cce1-5cb7-4c27-a010-9ec7b304a481"
      },
      "execution_count": 15,
      "outputs": [
        {
          "output_type": "stream",
          "name": "stdout",
          "text": [
            "0.28731203079223633 0.7126879692077637 0.13348087072372436 1\n",
            "0.3409755825996399 0.6590244174003601 0 1\n",
            "0.13565850257873535 0.8643414974212646 0 1\n",
            "0.19860180881288336 0.807564914226532 0 1\n",
            "-0.05890202522277832 1.0589020252227783 0.18494954109191894 1\n",
            "0.17435226668702786 0.836702287197113 0 1\n",
            "0.39045965671539307 0.6095403432846069 0.1371615022420883 1\n",
            "0.181017366322604 0.8319600820541382 0.0674332171678543 0.914041793346405\n",
            "0.14512034257253004 0.862880289554596 0.04068716764450073 1\n",
            "0.34673709339565706 0.7374267578125 0.09447901844978332 1\n",
            "0.3188433790781411 0.7046688795089722 0.06057720780372619 1\n",
            "0.4189373850822449 0.5810626149177551 0.18228595852851867 1\n",
            "0.34130966663360596 0.658690333366394 0.2557679653167725 1\n",
            "0.3457644560507367 0.7035895586013794 0.05797650814056396 1\n",
            "0.2049214456179369 0.8163923025131226 0.05602469444274902 1\n",
            "0.3641786575317383 0.6358213424682617 0.21532925367355346 1\n",
            "0.30608285779822353 0.7012556791305542 0.062271916866302485 1\n",
            "Moviepy - Building video /content/drive/MyDrive/DeepSL/MSASL100/Test/test/R-2MXm-JM0Q1cropped.mp4.\n",
            "Moviepy - Writing video /content/drive/MyDrive/DeepSL/MSASL100/Test/test/R-2MXm-JM0Q1cropped.mp4\n",
            "\n"
          ]
        },
        {
          "output_type": "stream",
          "name": "stderr",
          "text": []
        },
        {
          "output_type": "stream",
          "name": "stdout",
          "text": [
            "Moviepy - Done !\n",
            "Moviepy - video ready /content/drive/MyDrive/DeepSL/MSASL100/Test/test/R-2MXm-JM0Q1cropped.mp4\n",
            "None\n",
            "Moviepy - Building video /content/drive/MyDrive/DeepSL/MSASL100/Test/test/R-2MXm-JM0Q2cropped.mp4.\n",
            "Moviepy - Writing video /content/drive/MyDrive/DeepSL/MSASL100/Test/test/R-2MXm-JM0Q2cropped.mp4\n",
            "\n"
          ]
        },
        {
          "output_type": "stream",
          "name": "stderr",
          "text": [
            "t:  72%|███████▏  | 38/53 [00:00<00:00, 57.26it/s, now=None]WARNING:py.warnings:/usr/local/lib/python3.10/dist-packages/moviepy/video/io/ffmpeg_reader.py:123: UserWarning: Warning: in file /content/drive/MyDrive/DeepSL/MSASL100/Test/test/R-2MXm-JM0Q2.mp4, 691200 bytes wanted but 0 bytes read,at frame 52/53, at time 1.74/1.74 sec. Using the last valid frame instead.\n",
            "  warnings.warn(\"Warning: in file %s, \"%(self.filename)+\n",
            "\n"
          ]
        },
        {
          "output_type": "stream",
          "name": "stdout",
          "text": [
            "Moviepy - Done !\n",
            "Moviepy - video ready /content/drive/MyDrive/DeepSL/MSASL100/Test/test/R-2MXm-JM0Q2cropped.mp4\n",
            "None\n",
            "Moviepy - Building video /content/drive/MyDrive/DeepSL/MSASL100/Test/test/R-2MXm-JM0Q3cropped.mp4.\n",
            "Moviepy - Writing video /content/drive/MyDrive/DeepSL/MSASL100/Test/test/R-2MXm-JM0Q3cropped.mp4\n",
            "\n"
          ]
        },
        {
          "output_type": "stream",
          "name": "stderr",
          "text": [
            "t:  95%|█████████▌| 62/65 [00:01<00:00, 52.17it/s, now=None]WARNING:py.warnings:/usr/local/lib/python3.10/dist-packages/moviepy/video/io/ffmpeg_reader.py:123: UserWarning: Warning: in file /content/drive/MyDrive/DeepSL/MSASL100/Test/test/R-2MXm-JM0Q3.mp4, 691200 bytes wanted but 0 bytes read,at frame 64/65, at time 2.14/2.14 sec. Using the last valid frame instead.\n",
            "  warnings.warn(\"Warning: in file %s, \"%(self.filename)+\n",
            "\n"
          ]
        },
        {
          "output_type": "stream",
          "name": "stdout",
          "text": [
            "Moviepy - Done !\n",
            "Moviepy - video ready /content/drive/MyDrive/DeepSL/MSASL100/Test/test/R-2MXm-JM0Q3cropped.mp4\n",
            "None\n",
            "Moviepy - Building video /content/drive/MyDrive/DeepSL/MSASL100/Test/test/R-2MXm-JM0Q4cropped.mp4.\n",
            "Moviepy - Writing video /content/drive/MyDrive/DeepSL/MSASL100/Test/test/R-2MXm-JM0Q4cropped.mp4\n",
            "\n"
          ]
        },
        {
          "output_type": "stream",
          "name": "stderr",
          "text": []
        },
        {
          "output_type": "stream",
          "name": "stdout",
          "text": [
            "Moviepy - Done !\n",
            "Moviepy - video ready /content/drive/MyDrive/DeepSL/MSASL100/Test/test/R-2MXm-JM0Q4cropped.mp4\n",
            "None\n",
            "Moviepy - Building video /content/drive/MyDrive/DeepSL/MSASL100/Test/test/R-2MXm-JM0Q5cropped.mp4.\n",
            "Moviepy - Writing video /content/drive/MyDrive/DeepSL/MSASL100/Test/test/R-2MXm-JM0Q5cropped.mp4\n",
            "\n"
          ]
        },
        {
          "output_type": "stream",
          "name": "stderr",
          "text": [
            "t:  97%|█████████▋| 75/77 [00:01<00:00, 99.96it/s, now=None]WARNING:py.warnings:/usr/local/lib/python3.10/dist-packages/moviepy/video/io/ffmpeg_reader.py:123: UserWarning: Warning: in file /content/drive/MyDrive/DeepSL/MSASL100/Test/test/R-2MXm-JM0Q5.mp4, 691200 bytes wanted but 0 bytes read,at frame 76/77, at time 2.54/2.54 sec. Using the last valid frame instead.\n",
            "  warnings.warn(\"Warning: in file %s, \"%(self.filename)+\n",
            "\n"
          ]
        },
        {
          "output_type": "stream",
          "name": "stdout",
          "text": [
            "Moviepy - Done !\n",
            "Moviepy - video ready /content/drive/MyDrive/DeepSL/MSASL100/Test/test/R-2MXm-JM0Q5cropped.mp4\n",
            "None\n",
            "Moviepy - Building video /content/drive/MyDrive/DeepSL/MSASL100/Test/test/R-2MXm-JM0Q6cropped.mp4.\n",
            "Moviepy - Writing video /content/drive/MyDrive/DeepSL/MSASL100/Test/test/R-2MXm-JM0Q6cropped.mp4\n",
            "\n"
          ]
        },
        {
          "output_type": "stream",
          "name": "stderr",
          "text": [
            "t:  95%|█████████▌| 62/65 [00:01<00:00, 62.68it/s, now=None]WARNING:py.warnings:/usr/local/lib/python3.10/dist-packages/moviepy/video/io/ffmpeg_reader.py:123: UserWarning: Warning: in file /content/drive/MyDrive/DeepSL/MSASL100/Test/test/R-2MXm-JM0Q6.mp4, 691200 bytes wanted but 0 bytes read,at frame 64/65, at time 2.14/2.14 sec. Using the last valid frame instead.\n",
            "  warnings.warn(\"Warning: in file %s, \"%(self.filename)+\n",
            "\n"
          ]
        },
        {
          "output_type": "stream",
          "name": "stdout",
          "text": [
            "Moviepy - Done !\n",
            "Moviepy - video ready /content/drive/MyDrive/DeepSL/MSASL100/Test/test/R-2MXm-JM0Q6cropped.mp4\n",
            "None\n",
            "Moviepy - Building video /content/drive/MyDrive/DeepSL/MSASL100/Test/test/R-2MXm-JM0Q7cropped.mp4.\n",
            "Moviepy - Writing video /content/drive/MyDrive/DeepSL/MSASL100/Test/test/R-2MXm-JM0Q7cropped.mp4\n",
            "\n"
          ]
        },
        {
          "output_type": "stream",
          "name": "stderr",
          "text": []
        },
        {
          "output_type": "stream",
          "name": "stdout",
          "text": [
            "Moviepy - Done !\n",
            "Moviepy - video ready /content/drive/MyDrive/DeepSL/MSASL100/Test/test/R-2MXm-JM0Q7cropped.mp4\n",
            "None\n",
            "Moviepy - Building video /content/drive/MyDrive/DeepSL/MSASL100/Test/test/R-2MXm-JM0Q8cropped.mp4.\n",
            "Moviepy - Writing video /content/drive/MyDrive/DeepSL/MSASL100/Test/test/R-2MXm-JM0Q8cropped.mp4\n",
            "\n"
          ]
        },
        {
          "output_type": "stream",
          "name": "stderr",
          "text": [
            "t:  98%|█████████▊| 61/62 [00:01<00:00, 49.04it/s, now=None]WARNING:py.warnings:/usr/local/lib/python3.10/dist-packages/moviepy/video/io/ffmpeg_reader.py:123: UserWarning: Warning: in file /content/drive/MyDrive/DeepSL/MSASL100/Test/test/R-2MXm-JM0Q8.mp4, 691200 bytes wanted but 0 bytes read,at frame 61/62, at time 2.04/2.04 sec. Using the last valid frame instead.\n",
            "  warnings.warn(\"Warning: in file %s, \"%(self.filename)+\n",
            "\n"
          ]
        },
        {
          "output_type": "stream",
          "name": "stdout",
          "text": [
            "Moviepy - Done !\n",
            "Moviepy - video ready /content/drive/MyDrive/DeepSL/MSASL100/Test/test/R-2MXm-JM0Q8cropped.mp4\n",
            "None\n",
            "Moviepy - Building video /content/drive/MyDrive/DeepSL/MSASL100/Test/test/R-2MXm-JM0Q9cropped.mp4.\n",
            "Moviepy - Writing video /content/drive/MyDrive/DeepSL/MSASL100/Test/test/R-2MXm-JM0Q9cropped.mp4\n",
            "\n"
          ]
        },
        {
          "output_type": "stream",
          "name": "stderr",
          "text": []
        },
        {
          "output_type": "stream",
          "name": "stdout",
          "text": [
            "Moviepy - Done !\n",
            "Moviepy - video ready /content/drive/MyDrive/DeepSL/MSASL100/Test/test/R-2MXm-JM0Q9cropped.mp4\n",
            "None\n",
            "Moviepy - Building video /content/drive/MyDrive/DeepSL/MSASL100/Test/test/R-2MXm-JM0Q10cropped.mp4.\n",
            "Moviepy - Writing video /content/drive/MyDrive/DeepSL/MSASL100/Test/test/R-2MXm-JM0Q10cropped.mp4\n",
            "\n"
          ]
        },
        {
          "output_type": "stream",
          "name": "stderr",
          "text": []
        },
        {
          "output_type": "stream",
          "name": "stdout",
          "text": [
            "Moviepy - Done !\n",
            "Moviepy - video ready /content/drive/MyDrive/DeepSL/MSASL100/Test/test/R-2MXm-JM0Q10cropped.mp4\n",
            "None\n",
            "Moviepy - Building video /content/drive/MyDrive/DeepSL/MSASL100/Test/test/R-2MXm-JM0Q11cropped.mp4.\n",
            "Moviepy - Writing video /content/drive/MyDrive/DeepSL/MSASL100/Test/test/R-2MXm-JM0Q11cropped.mp4\n",
            "\n"
          ]
        },
        {
          "output_type": "stream",
          "name": "stderr",
          "text": [
            "t:  73%|███████▎  | 24/33 [00:00<00:00, 34.71it/s, now=None]WARNING:py.warnings:/usr/local/lib/python3.10/dist-packages/moviepy/video/io/ffmpeg_reader.py:123: UserWarning: Warning: in file /content/drive/MyDrive/DeepSL/MSASL100/Test/test/R-2MXm-JM0Q11.mp4, 691200 bytes wanted but 0 bytes read,at frame 32/33, at time 1.07/1.07 sec. Using the last valid frame instead.\n",
            "  warnings.warn(\"Warning: in file %s, \"%(self.filename)+\n",
            "\n"
          ]
        },
        {
          "output_type": "stream",
          "name": "stdout",
          "text": [
            "Moviepy - Done !\n",
            "Moviepy - video ready /content/drive/MyDrive/DeepSL/MSASL100/Test/test/R-2MXm-JM0Q11cropped.mp4\n",
            "None\n",
            "Moviepy - Building video /content/drive/MyDrive/DeepSL/MSASL100/Test/test/R-2MXm-JM0Q12cropped.mp4.\n",
            "Moviepy - Writing video /content/drive/MyDrive/DeepSL/MSASL100/Test/test/R-2MXm-JM0Q12cropped.mp4\n",
            "\n"
          ]
        },
        {
          "output_type": "stream",
          "name": "stderr",
          "text": []
        },
        {
          "output_type": "stream",
          "name": "stdout",
          "text": [
            "Moviepy - Done !\n",
            "Moviepy - video ready /content/drive/MyDrive/DeepSL/MSASL100/Test/test/R-2MXm-JM0Q12cropped.mp4\n",
            "None\n",
            "Moviepy - Building video /content/drive/MyDrive/DeepSL/MSASL100/Test/test/R-2MXm-JM0Q13cropped.mp4.\n",
            "Moviepy - Writing video /content/drive/MyDrive/DeepSL/MSASL100/Test/test/R-2MXm-JM0Q13cropped.mp4\n",
            "\n"
          ]
        },
        {
          "output_type": "stream",
          "name": "stderr",
          "text": []
        },
        {
          "output_type": "stream",
          "name": "stdout",
          "text": [
            "Moviepy - Done !\n",
            "Moviepy - video ready /content/drive/MyDrive/DeepSL/MSASL100/Test/test/R-2MXm-JM0Q13cropped.mp4\n",
            "None\n",
            "Moviepy - Building video /content/drive/MyDrive/DeepSL/MSASL100/Test/test/R-2MXm-JM0Q14cropped.mp4.\n",
            "Moviepy - Writing video /content/drive/MyDrive/DeepSL/MSASL100/Test/test/R-2MXm-JM0Q14cropped.mp4\n",
            "\n"
          ]
        },
        {
          "output_type": "stream",
          "name": "stderr",
          "text": []
        },
        {
          "output_type": "stream",
          "name": "stdout",
          "text": [
            "Moviepy - Done !\n",
            "Moviepy - video ready /content/drive/MyDrive/DeepSL/MSASL100/Test/test/R-2MXm-JM0Q14cropped.mp4\n",
            "None\n",
            "Moviepy - Building video /content/drive/MyDrive/DeepSL/MSASL100/Test/test/R-2MXm-JM0Q15cropped.mp4.\n",
            "Moviepy - Writing video /content/drive/MyDrive/DeepSL/MSASL100/Test/test/R-2MXm-JM0Q15cropped.mp4\n",
            "\n"
          ]
        },
        {
          "output_type": "stream",
          "name": "stderr",
          "text": [
            "t:  98%|█████████▊| 46/47 [00:01<00:00, 51.74it/s, now=None]WARNING:py.warnings:/usr/local/lib/python3.10/dist-packages/moviepy/video/io/ffmpeg_reader.py:123: UserWarning: Warning: in file /content/drive/MyDrive/DeepSL/MSASL100/Test/test/R-2MXm-JM0Q15.mp4, 691200 bytes wanted but 0 bytes read,at frame 46/47, at time 1.53/1.54 sec. Using the last valid frame instead.\n",
            "  warnings.warn(\"Warning: in file %s, \"%(self.filename)+\n",
            "\n"
          ]
        },
        {
          "output_type": "stream",
          "name": "stdout",
          "text": [
            "Moviepy - Done !\n",
            "Moviepy - video ready /content/drive/MyDrive/DeepSL/MSASL100/Test/test/R-2MXm-JM0Q15cropped.mp4\n",
            "None\n",
            "Moviepy - Building video /content/drive/MyDrive/DeepSL/MSASL100/Test/test/R-2MXm-JM0Q16cropped.mp4.\n",
            "Moviepy - Writing video /content/drive/MyDrive/DeepSL/MSASL100/Test/test/R-2MXm-JM0Q16cropped.mp4\n",
            "\n"
          ]
        },
        {
          "output_type": "stream",
          "name": "stderr",
          "text": [
            "t:  87%|████████▋ | 46/53 [00:01<00:00, 57.52it/s, now=None]WARNING:py.warnings:/usr/local/lib/python3.10/dist-packages/moviepy/video/io/ffmpeg_reader.py:123: UserWarning: Warning: in file /content/drive/MyDrive/DeepSL/MSASL100/Test/test/R-2MXm-JM0Q16.mp4, 691200 bytes wanted but 0 bytes read,at frame 52/53, at time 1.74/1.74 sec. Using the last valid frame instead.\n",
            "  warnings.warn(\"Warning: in file %s, \"%(self.filename)+\n",
            "\n"
          ]
        },
        {
          "output_type": "stream",
          "name": "stdout",
          "text": [
            "Moviepy - Done !\n",
            "Moviepy - video ready /content/drive/MyDrive/DeepSL/MSASL100/Test/test/R-2MXm-JM0Q16cropped.mp4\n",
            "None\n",
            "Moviepy - Building video /content/drive/MyDrive/DeepSL/MSASL100/Test/test/R-2MXm-JM0Q17cropped.mp4.\n",
            "Moviepy - Writing video /content/drive/MyDrive/DeepSL/MSASL100/Test/test/R-2MXm-JM0Q17cropped.mp4\n",
            "\n"
          ]
        },
        {
          "output_type": "stream",
          "name": "stderr",
          "text": [
            "t:  89%|████████▉ | 32/36 [00:00<00:00, 45.98it/s, now=None]WARNING:py.warnings:/usr/local/lib/python3.10/dist-packages/moviepy/video/io/ffmpeg_reader.py:123: UserWarning: Warning: in file /content/drive/MyDrive/DeepSL/MSASL100/Test/test/R-2MXm-JM0Q17.mp4, 691200 bytes wanted but 0 bytes read,at frame 35/36, at time 1.17/1.17 sec. Using the last valid frame instead.\n",
            "  warnings.warn(\"Warning: in file %s, \"%(self.filename)+\n",
            "\n"
          ]
        },
        {
          "output_type": "stream",
          "name": "stdout",
          "text": [
            "Moviepy - Done !\n",
            "Moviepy - video ready /content/drive/MyDrive/DeepSL/MSASL100/Test/test/R-2MXm-JM0Q17cropped.mp4\n",
            "None\n"
          ]
        }
      ]
    },
    {
      "cell_type": "markdown",
      "source": [
        "### 2.3 Evaluate Detection Model"
      ],
      "metadata": {
        "id": "1KPantnCxVFA"
      }
    },
    {
      "cell_type": "markdown",
      "source": [
        "#### 2.3.1 Functions for the Detection Model Evaluation"
      ],
      "metadata": {
        "id": "QZ-uDLbixgQ4"
      }
    },
    {
      "cell_type": "code",
      "source": [
        "# Function to extract the filename out of the path, needed to extract the true labels / bounding boxes / start and end times later\n",
        "def extract_filename(filename):\n",
        "  cutted_filename = f'{filename.split(\"/\")[8]}'\n",
        "  return cutted_filename[:-4]"
      ],
      "metadata": {
        "id": "3movbNFsxYUp"
      },
      "execution_count": 16,
      "outputs": []
    },
    {
      "cell_type": "code",
      "source": [
        "# Function to read the  content from the data files which were downloaded from Kaggle and store the metadata of the videos\n",
        "def load_json_content(data_files_eval):\n",
        "  train_json, val_json, test_json = '', '', ''\n",
        "  x = 0\n",
        "  while x < len(data_files_eval):\n",
        "    with open(data_files_eval[x]) as user_file:\n",
        "      file_contents = user_file.read()\n",
        "    if x == 0:\n",
        "      train_json = json.loads(file_contents)\n",
        "    elif x == 1:\n",
        "      val_json = json.loads(file_contents)\n",
        "    else:\n",
        "      test_json = json.loads(file_contents)\n",
        "    x+=1\n",
        "\n",
        "  return train_json, val_json, test_json"
      ],
      "metadata": {
        "id": "80gC6VOSxsZX"
      },
      "execution_count": 17,
      "outputs": []
    },
    {
      "cell_type": "code",
      "source": [
        "# Function to get the true times and bounding box coordinates of the signs out of the JSON\n",
        "def extract_times_boxes_from_json(train_json, file_name):\n",
        "  times_from_json, coordinates_from_json, labels_from_json = [], [], []\n",
        "  for x in train_json:\n",
        "    if x['url'].split(\"=\")[1] == file_name:\n",
        "      times_from_json.append((x['start'], x['end']))\n",
        "      coordinates_from_json.append(x['box'])\n",
        "      labels_from_json.append(x['clean_text'])\n",
        "  return times_from_json, coordinates_from_json, labels_from_json"
      ],
      "metadata": {
        "id": "a1IH2yZLxuRm"
      },
      "execution_count": 18,
      "outputs": []
    },
    {
      "cell_type": "code",
      "source": [
        "# Function to calculate the performance of the predicted start and end times of the signs\n",
        "def select_overlap_predictions(list1, list2):\n",
        "    \"\"\"\n",
        "    Calculates precision and recoil.\n",
        "    \"\"\"\n",
        "    true_predicted_labels = []\n",
        "    true_labels = []\n",
        "    diff_labels_start = []\n",
        "    diff_labels_end = []\n",
        "\n",
        "    for true_item in list1:\n",
        "      for predicted_item in list2:\n",
        "        if predicted_item[1] > true_item[0]:\n",
        "           if predicted_item[0] < true_item[1]:\n",
        "            true_predicted_labels.append(true_item)\n",
        "            true_labels.append(predicted_item)\n",
        "            diff_1 = abs(true_item[0] - predicted_item[0])\n",
        "            diff_2 = abs(true_item[1] - predicted_item[1])\n",
        "            diff_labels_start.append(diff_1)\n",
        "            diff_labels_end.append(diff_2)\n",
        "\n",
        "\n",
        "    return set(true_predicted_labels), set(true_labels), diff_labels_start, diff_labels_end, round(sum(diff_labels_start)/len(true_precited_labels), 2), round(sum(diff_labels_end)/len(true_precited_labels), 2)"
      ],
      "metadata": {
        "id": "4WAdPkD6x0ay"
      },
      "execution_count": 19,
      "outputs": []
    },
    {
      "cell_type": "code",
      "source": [
        "# Function to calculate the performance of the predicted bounding boxes of the signs\n",
        "def calculate_intersection_over_union(predicted_coordinates, coordinates_from_json):\n",
        "  i = 0\n",
        "  result = []\n",
        "  while i < len(coordinates_from_json):\n",
        "    m = IoU(num_classes=2, target_class_ids=[0])\n",
        "    m.update_state(coordinates_from_json[i], predicted_coordinates[i])\n",
        "    result.append(m.result().numpy())\n",
        "    i+=1\n",
        "  return result"
      ],
      "metadata": {
        "id": "WBITig2Ex22M"
      },
      "execution_count": 20,
      "outputs": []
    },
    {
      "cell_type": "code",
      "source": [
        "# Function to calculate the average performance of predicting the boudning boxes\n",
        "def get_avg_IoU(videos):\n",
        "  summe, anz = 0, 0\n",
        "  for x in videos:\n",
        "    for z in x:\n",
        "      summe +=z\n",
        "      anz +=1\n",
        "  return round((summe/anz),3)"
      ],
      "metadata": {
        "id": "vFvXhYqAyBR_"
      },
      "execution_count": 21,
      "outputs": []
    },
    {
      "cell_type": "markdown",
      "source": [
        "#### 2.3.2 Performing the Detection Model Evaluation"
      ],
      "metadata": {
        "id": "snXT3xBBxmWF"
      }
    },
    {
      "cell_type": "code",
      "source": [
        "# Loading the content of the JSON files to compare them with the predictions\n",
        "train_json, val_json, test_json = load_json_content(data_files_eval)"
      ],
      "metadata": {
        "id": "GTzv5sxbEumf"
      },
      "execution_count": null,
      "outputs": []
    },
    {
      "cell_type": "code",
      "source": [
        "# Extracting the file names out of the paths\n",
        "filename_cutted_1 = extract_filename(video_for_eval_1)\n",
        "filename_cutted_2 = extract_filename(video_for_eval_2)\n",
        "filename_cutted_3 = extract_filename(video_for_eval_3)\n",
        "filename_cutted_4 = extract_filename(video_for_eval_4)\n",
        "filename_cutted_5 = extract_filename(video_for_eval_5)"
      ],
      "metadata": {
        "id": "BMNojTXzxYcm"
      },
      "execution_count": 22,
      "outputs": []
    },
    {
      "cell_type": "markdown",
      "source": [
        "Loading the true times and coordinates from the JSON for each of the five videos"
      ],
      "metadata": {
        "id": "A_s5S0-VGicZ"
      }
    },
    {
      "cell_type": "code",
      "source": [
        "times_from_json_1, coordinates_from_json_1, labels_from_json_1  = extract_times_boxes_from_json(test_json, filename_cutted_1)\n",
        "print(times_from_json_1)\n",
        "print(coordinates_from_json_1)\n",
        "print(labels_from_json_1)"
      ],
      "metadata": {
        "colab": {
          "base_uri": "https://localhost:8080/"
        },
        "id": "MgLclRAPybG1",
        "outputId": "d8606e1c-f307-4ecf-85d1-0271508bc815"
      },
      "execution_count": 24,
      "outputs": [
        {
          "output_type": "stream",
          "name": "stdout",
          "text": [
            "[(149, 179), (214, 257), (288, 353), (374, 432), (463, 544), (582, 649), (676, 717), (730, 779), (819, 872), (909, 952), (980, 1033), (1057, 1126), (1148, 1190), (1219, 1276), (1278, 1344), (1355, 1423), (1660, 1701), (1723, 1779)]\n",
            "[[0.25834041833877563, 0.005991637706756592, 0.9855325222015381, 0.9922109842300415], [0.15793827176094055, 0.0, 1.0, 1.0], [0.2297644317150116, 0.0, 1.0, 1.0], [0.27409830689430237, 0.0055048465728759766, 0.9863781332969666, 0.9925577640533447], [0.2419145405292511, 0.0, 1.0, 1.0], [0.256612092256546, 0.007061123847961426, 0.9883110523223877, 0.9937471151351929], [0.24106186628341675, 0.0, 0.9881623983383179, 0.9951472878456116], [0.2502915561199188, 0.011515319347381592, 0.9865373373031616, 0.9953209161758423], [0.18024349212646484, 0.0, 1.0, 1.0], [0.2532919645309448, 0.005534470081329346, 0.987464427947998, 0.9972509145736694], [0.2545633912086487, 0.002106785774230957, 0.9955531358718872, 0.9963507652282715], [0.15789037942886353, 0.0, 1.0, 1.0], [0.26013171672821045, 0.0, 1.0, 0.9944331645965576], [0.21536627411842346, 8.296966552734375e-05, 0.9886179566383362, 0.9964379668235779], [0.1861230432987213, 0.0, 0.9953451156616211, 1.0], [0.24397015571594238, 0.009662479162216187, 0.9852942228317261, 0.9973876476287842], [0.2491784393787384, 0.010104984045028687, 0.9869092702865601, 0.9961305856704712], [0.24550238251686096, 0.007839947938919067, 0.9894120693206787, 0.9934431314468384]]\n",
            "['mother', 'father', 'son', 'daughter', 'brother', 'sister', 'boy', 'girl', 'man', 'woman', 'grandmother', 'grandfather', 'aunt', 'uncle', 'cousin', 'cousin', 'step', 'half']\n"
          ]
        }
      ]
    },
    {
      "cell_type": "code",
      "source": [
        "times_from_json_2, coordinates_from_json_2, labels_from_json_2 = extract_times_boxes_from_json(test_json, filename_cutted_2)\n",
        "times_from_json_3, coordinates_from_json_3, labels_from_json_3 = extract_times_boxes_from_json(test_json, filename_cutted_3)\n",
        "times_from_json_4, coordinates_from_json_4, labels_from_json_4 = extract_times_boxes_from_json(test_json, filename_cutted_4)\n",
        "times_from_json_5, coordinates_from_json_5, labels_from_json_5 = extract_times_boxes_from_json(test_json, filename_cutted_5)"
      ],
      "metadata": {
        "id": "0pvz8pHw6um1"
      },
      "execution_count": 25,
      "outputs": []
    },
    {
      "cell_type": "markdown",
      "source": [
        "Measuring the performance of the predicted start/end times of the signs for each video"
      ],
      "metadata": {
        "id": "Pc21QKQ-GqvQ"
      }
    },
    {
      "cell_type": "code",
      "source": [
        "valid_true_labels_1, valid_predicted_labels_1, diff_labels_start_1, diff_labels_end_1, diff_labels_start_mean_1, diff_labels_end_mean_1 = select_overlap_predictions(times_from_json_1, predicted_times_1)\n",
        "print(sorted(valid_true_labels_1), len(valid_true_labels_1))\n",
        "print(sorted(valid_predicted_labels_1), len(valid_predicted_labels_1))\n",
        "print('Diff Start: ', diff_labels_start_1)\n",
        "print('Diff End: ', diff_labels_end_1)\n",
        "print('Average shift of frames: Start: ', diff_labels_start_mean_1, ' End: ', diff_labels_end_mean_1)"
      ],
      "metadata": {
        "colab": {
          "base_uri": "https://localhost:8080/"
        },
        "id": "3G7FAErJybJU",
        "outputId": "6624cbd0-f065-4c79-a8f9-261df1152898"
      },
      "execution_count": 97,
      "outputs": [
        {
          "output_type": "stream",
          "name": "stdout",
          "text": [
            "[(149, 179), (214, 257), (288, 353), (374, 432), (463, 544), (582, 649), (676, 717), (730, 779), (819, 872), (909, 952), (980, 1033), (1057, 1126), (1148, 1190), (1219, 1276), (1278, 1344), (1355, 1423), (1660, 1701), (1723, 1779)] 18\n",
            "[(150, 181), (221, 255), (291, 350), (380, 446), (471, 545), (576, 646), (669, 712), (734, 799), (822, 870), (909, 952), (981, 1024), (1061, 1108), (1145, 1189), (1225, 1266), (1301, 1343), (1371, 1413), (1671, 1698), (1738, 1781)] 18\n",
            "Diff Start:  [1, 7, 3, 6, 8, 6, 7, 4, 3, 0, 1, 4, 3, 6, 23, 16, 11, 15]\n",
            "Diff End:  [2, 2, 3, 14, 1, 3, 5, 20, 2, 0, 9, 18, 1, 10, 1, 10, 3, 2]\n",
            "Average shift of frames: Start:  6.89  End:  5.89\n"
          ]
        }
      ]
    },
    {
      "cell_type": "code",
      "source": [
        "valid_true_labels_2, valid_predicted_labels_2, diff_labels_start_2, diff_labels_end_2, diff_labels_start_mean_2, diff_labels_end_mean_2 = select_overlap_predictions(times_from_json_2, predicted_times_2)\n",
        "valid_true_labels_3, valid_predicted_labels_3, diff_labels_start_3, diff_labels_end_3, diff_labels_start_mean_3, diff_labels_end_mean_3 = select_overlap_predictions(times_from_json_3, predicted_times_3)\n",
        "valid_true_labels_4, valid_predicted_labels_4, diff_labels_start_4, diff_labels_end_4, diff_labels_start_mean_4, diff_labels_end_mean_4 = select_overlap_predictions(times_from_json_4, predicted_times_4)\n",
        "valid_true_labels_5, valid_predicted_labels_5, diff_labels_start_5, diff_labels_end_5, diff_labels_start_mean_5, diff_labels_end_mean_5 = select_overlap_predictions(times_from_json_5, predicted_times_5)"
      ],
      "metadata": {
        "id": "7HpXjAlszvEa"
      },
      "execution_count": 27,
      "outputs": []
    },
    {
      "cell_type": "code",
      "source": [
        "# Calculating and printing the average shift of the start/end times of the signs in frames\n",
        "avg_start = (diff_labels_start_mean_1 + diff_labels_start_mean_2 + diff_labels_start_mean_3 + diff_labels_start_mean_4 + diff_labels_start_mean_5) / 5\n",
        "avg_end = (diff_labels_end_mean_1 + diff_labels_end_mean_2 + diff_labels_end_mean_3 + diff_labels_end_mean_4 + diff_labels_end_mean_5) / 5\n",
        "print('Average false prediction of sign start in frames: ', round(avg_start, 2))\n",
        "print('Average false prediction of sign end in frames: ', round(avg_end, 2))"
      ],
      "metadata": {
        "id": "4saGSdTuybLw",
        "colab": {
          "base_uri": "https://localhost:8080/"
        },
        "outputId": "2f686598-36b1-497c-bc39-de039698da7f"
      },
      "execution_count": 31,
      "outputs": [
        {
          "output_type": "stream",
          "name": "stdout",
          "text": [
            "Average false prediction of sign start in frames:  9.3\n",
            "Average false prediction of sign end in frames:  10.73\n"
          ]
        }
      ]
    },
    {
      "cell_type": "markdown",
      "source": [
        "Measuring the performance of the predicted bounding boxes of the signs for each video"
      ],
      "metadata": {
        "id": "QJHhBzy-HBeB"
      }
    },
    {
      "cell_type": "code",
      "source": [
        "iou_result_1_test = calculate_intersection_over_union(predicted_coordinates_1, coordinates_from_json_1)\n",
        "iou_result_1_test"
      ],
      "metadata": {
        "colab": {
          "base_uri": "https://localhost:8080/"
        },
        "id": "efKJODPOybN7",
        "outputId": "08d6b264-7f36-4f56-b353-fc871e65eb2d"
      },
      "execution_count": 32,
      "outputs": [
        {
          "output_type": "execute_result",
          "data": {
            "text/plain": [
              "[0.75,\n",
              " 0.6666667,\n",
              " 0.6666667,\n",
              " 0.5,\n",
              " 1.0,\n",
              " 0.75,\n",
              " 0.75,\n",
              " 0.75,\n",
              " 0.6666667,\n",
              " 0.75,\n",
              " 0.75,\n",
              " 1.0,\n",
              " 0.6666667,\n",
              " 0.75,\n",
              " 0.6666667,\n",
              " 0.5,\n",
              " 0.75,\n",
              " 0.5]"
            ]
          },
          "metadata": {},
          "execution_count": 32
        }
      ]
    },
    {
      "cell_type": "code",
      "source": [
        "uoi_result_2 = calculate_intersection_over_union(predicted_coordinates_2, coordinates_from_json_2)\n",
        "uoi_result_3 = calculate_intersection_over_union(predicted_coordinates_3, coordinates_from_json_3)\n",
        "uoi_result_4 = calculate_intersection_over_union(predicted_coordinates_4, coordinates_from_json_4)\n",
        "uoi_result_5 = calculate_intersection_over_union(predicted_coordinates_5, coordinates_from_json_5)"
      ],
      "metadata": {
        "id": "98t8wevI0e0r"
      },
      "execution_count": 38,
      "outputs": []
    },
    {
      "cell_type": "code",
      "source": [
        "# Calculating and printing the average Intersection over Union across all signs\n",
        "avg_IoU = get_avg_IoU([iou_result_1_test, uoi_result_2, uoi_result_3, uoi_result_4, uoi_result_5])\n",
        "print('Average Intersection over Union across all videos: ' , avg_IoU)"
      ],
      "metadata": {
        "colab": {
          "base_uri": "https://localhost:8080/"
        },
        "id": "BC9eyN9NzzjL",
        "outputId": "bd2c1d27-44d0-4173-ab1a-b902da94706b"
      },
      "execution_count": 39,
      "outputs": [
        {
          "output_type": "stream",
          "name": "stdout",
          "text": [
            "Average Intersection over Union across all videos:  0.686\n"
          ]
        }
      ]
    },
    {
      "cell_type": "code",
      "source": [
        "# Printing the predicted number of signs in each video vs the actual number of signs in each video\n",
        "print('Number of predicted signs vs actual number of signs')\n",
        "print('')\n",
        "print('Predictions Video1: ', len(predicted_coordinates_1))\n",
        "print('Labels Video1: ', len(coordinates_from_json_1))\n",
        "print('')\n",
        "print('Predictions Video2: ', len(predicted_coordinates_2))\n",
        "print('Labels Video2: ',len(coordinates_from_json_2))\n",
        "print('')\n",
        "print('Predictions Video3: ', len(predicted_coordinates_3))\n",
        "print('Labels Video3: ',len(coordinates_from_json_3))\n",
        "print('')\n",
        "print('Predictions Video4: ', len(predicted_coordinates_4))\n",
        "print('Labels Video4: ',len(coordinates_from_json_4))\n",
        "print('')\n",
        "print('Predictions Video5: ', len(predicted_coordinates_5))\n",
        "print('Labels Video5: ',len(coordinates_from_json_5))"
      ],
      "metadata": {
        "colab": {
          "base_uri": "https://localhost:8080/"
        },
        "id": "hlHi1anL1OXp",
        "outputId": "7147fab5-4ab4-4648-8e66-49b52fd7771d"
      },
      "execution_count": 40,
      "outputs": [
        {
          "output_type": "stream",
          "name": "stdout",
          "text": [
            "Number of predicted signs vs actual number of signs\n",
            "\n",
            "Predictions Video1:  22\n",
            "Labels Video1:  18\n",
            "\n",
            "Predictions Video2:  14\n",
            "Labels Video2:  12\n",
            "\n",
            "Predictions Video3:  16\n",
            "Labels Video3:  7\n",
            "\n",
            "Predictions Video4:  16\n",
            "Labels Video4:  15\n",
            "\n",
            "Predictions Video5:  17\n",
            "Labels Video5:  12\n"
          ]
        }
      ]
    },
    {
      "cell_type": "markdown",
      "source": [
        "#### 2.3.2 Showing one image with the true and the predicted bounding box for a better understanding of the IoU"
      ],
      "metadata": {
        "id": "LJQzLVg40Fmw"
      }
    },
    {
      "cell_type": "code",
      "source": [
        "# Image path of test image\n",
        "image_path = '/content/drive/MyDrive/DeepSL/test_image_2.png'"
      ],
      "metadata": {
        "id": "7pH6YptK0oby"
      },
      "execution_count": 41,
      "outputs": []
    },
    {
      "cell_type": "code",
      "source": [
        "# Setting the coordinates of the true and the predicted bounding box\n",
        "img_height, img_width = 845, 1463\n",
        "coords_3 = [0.3482055023864463*img_width, 0.6202065944671631*img_width, 0*img_height, 1*img_height]\n",
        "coords_true = [\n",
        "  0.15940579771995544*img_width,\n",
        "  0.8090351223945618*img_width,\n",
        "  0.012624263763427734*img_height, 0.9981116652488708*img_height]"
      ],
      "metadata": {
        "id": "nwwTZ_ar0oeX"
      },
      "execution_count": 42,
      "outputs": []
    },
    {
      "cell_type": "code",
      "source": [
        "# Showing the test image with the true and the predicted bounding box => green = true bounding box, red = predicted bounding box\n",
        "img = cv2.imread(image_path)\n",
        "img = cv2.cvtColor(img, cv2.COLOR_BGRA2RGB)\n",
        "fig, ax = plt.subplots(figsize=(10,10))\n",
        "\n",
        "min_point_pred = (coords_3[0], coords_3[2])\n",
        "w_pred = coords_3[1] - coords_3[0]\n",
        "h_pred = coords_3[3] - coords_3[2]\n",
        "\n",
        "min_point_true = (coords_true[0], coords_true[2])\n",
        "w_true = coords_true[1] - coords_true[0]\n",
        "h_true = coords_true[3] - coords_true[2]\n",
        "\n",
        "rect_pred = patches.Rectangle(min_point_pred, w_pred, h_pred, linewidth=5, edgecolor='r', facecolor='none')\n",
        "rect_true = patches.Rectangle(min_point_true, w_true, h_true, linewidth=5, edgecolor='g', facecolor='none')\n",
        "ax.add_patch(rect_pred)\n",
        "ax.add_patch(rect_true)\n",
        "ax.imshow(img)\n",
        "plt.title('Test Image')"
      ],
      "metadata": {
        "colab": {
          "base_uri": "https://localhost:8080/",
          "height": 547
        },
        "id": "aH-tWOMY0ogm",
        "outputId": "17a8acee-e275-4c5e-ce02-330ea2a33b87"
      },
      "execution_count": 93,
      "outputs": [
        {
          "output_type": "execute_result",
          "data": {
            "text/plain": [
              "Text(0.5, 1.0, 'Test Image')"
            ]
          },
          "metadata": {},
          "execution_count": 93
        },
        {
          "output_type": "display_data",
          "data": {
            "text/plain": [
              "<Figure size 1000x1000 with 1 Axes>"
            ],
            "image/png": "[encoded data removed]"
          },
          "metadata": {}
        }
      ]
    },
    {
      "cell_type": "markdown",
      "source": [
        "In this case the Intersection over Union would be 0.5 as the red bounding box fills nearly half of the green bounding box"
      ],
      "metadata": {
        "id": "NbDE0mQPCxBJ"
      }
    },
    {
      "cell_type": "markdown",
      "source": [
        "## 3. Combination of Detection and Recognition"
      ],
      "metadata": {
        "id": "yYGUXCZE1j0Q"
      }
    },
    {
      "cell_type": "markdown",
      "source": [
        "### 3.0 Prequesites for combining the Models"
      ],
      "metadata": {
        "id": "_wBcwgzi1-ds"
      }
    },
    {
      "cell_type": "code",
      "source": [
        "# Video titles to select from for cutting and cropping\n",
        "kuerzel = ['wqDOKXEx24M',\n",
        "'IKfQ-Cra9Bc',\n",
        "'kwCfdkhc37c',\n",
        "'R-2MXm-JM0Q',\n",
        "'uE3IDWh0xnA']"
      ],
      "metadata": {
        "id": "OGkSWrxt2CUJ"
      },
      "execution_count": 44,
      "outputs": []
    },
    {
      "cell_type": "code",
      "source": [
        "# Directory with the original videos which are cut and cropped\n",
        "richtige_videos = os.listdir('/content/drive/MyDrive/DeepSL/MSASL100/Test/test')"
      ],
      "metadata": {
        "id": "EB9Zibbh2HTu"
      },
      "execution_count": 46,
      "outputs": []
    },
    {
      "cell_type": "code",
      "source": [
        "# Function used to remove the cut/cropped videos before testing another video\n",
        "# shutil.rmtree(\"/content/cropped_videos\")"
      ],
      "metadata": {
        "id": "caZILB67HPXM"
      },
      "execution_count": 70,
      "outputs": []
    },
    {
      "cell_type": "code",
      "source": [
        "# Functions to create the directory which is used to store the cut and cropped videos\n",
        "os.mkdir(\"/content/cropped_videos\")\n",
        "os.mkdir(\"/content/cropped_videos/test\")"
      ],
      "metadata": {
        "id": "32-wu6EA2HWh"
      },
      "execution_count": 71,
      "outputs": []
    },
    {
      "cell_type": "code",
      "source": [
        "# Loops to copy the cut and cropped videos saved on drive previously in this notebook (cut/crop step) to a local folder for using them for evaluating the recognition taks\n",
        "for item in richtige_videos:\n",
        "  for video_name in kuerzel[4]:\n",
        "    if item.startswith(kuerzel[4]):\n",
        "      if item.endswith(\"cropped.mp4\"):\n",
        "        shutil.copy('/content/drive/MyDrive/DeepSL/MSASL100/Test/test/' +item, \"/content/cropped_videos/test\")"
      ],
      "metadata": {
        "id": "OA_3sqF22HY4"
      },
      "execution_count": 72,
      "outputs": []
    },
    {
      "cell_type": "code",
      "source": [
        "# Function to tranform the cut and cropped videos to frames as the recognition model can handle them better\n",
        "def format_frames(frame, output_size):\n",
        "  \"\"\"\n",
        "    Pad and resize an image from a video.\n",
        "\n",
        "    Args:\n",
        "      frame: Image that needs to resized and padded.\n",
        "      output_size: Pixel size of the output frame image.\n",
        "\n",
        "    Return:\n",
        "      Formatted frame with padding of specified output size.\n",
        "  \"\"\"\n",
        "  frame = tf.image.convert_image_dtype(frame, tf.float32)\n",
        "  frame = tf.image.resize_with_pad(frame, *output_size)\n",
        "  return frame"
      ],
      "metadata": {
        "id": "Iwd283NB3xAG"
      },
      "execution_count": 50,
      "outputs": []
    },
    {
      "cell_type": "code",
      "source": [
        "# Another function to tranform the cut and cropped videos to frames as the recognition model can handle them better\n",
        "def frames_from_video_file(video_path, n_frames, output_size = (224,224), frame_step = 15):\n",
        "  \"\"\"\n",
        "    Creates frames from each video file present for each category.\n",
        "\n",
        "    Args:\n",
        "      video_path: File path to the video.\n",
        "      n_frames: Number of frames to be created per video file.\n",
        "      output_size: Pixel size of the output frame image.\n",
        "\n",
        "    Return:\n",
        "      An NumPy array of frames in the shape of (n_frames, height, width, channels).\n",
        "  \"\"\"\n",
        "  # Read each video frame by frame\n",
        "  result = []\n",
        "  src = cv2.VideoCapture(str(video_path))\n",
        "\n",
        "  video_length = src.get(cv2.CAP_PROP_FRAME_COUNT)\n",
        "\n",
        "  need_length = 1 + (n_frames - 1) * frame_step\n",
        "\n",
        "  if need_length > video_length:\n",
        "    start = 0\n",
        "  else:\n",
        "    max_start = video_length - need_length\n",
        "    start = random.randint(0, max_start + 1)\n",
        "\n",
        "  src.set(cv2.CAP_PROP_POS_FRAMES, start)\n",
        "  # ret is a boolean indicating whether read was successful, frame is the image itself\n",
        "  ret, frame = src.read()\n",
        "  result.append(format_frames(frame, output_size))\n",
        "\n",
        "  for _ in range(n_frames - 1):\n",
        "    for _ in range(frame_step):\n",
        "      ret, frame = src.read()\n",
        "    if ret:\n",
        "      frame = format_frames(frame, output_size)\n",
        "      result.append(frame)\n",
        "    else:\n",
        "      result.append(np.zeros_like(result[0]))\n",
        "  src.release()\n",
        "  result = np.array(result)[..., [2, 1, 0]]\n",
        "\n",
        "  return result"
      ],
      "metadata": {
        "id": "qzhcLORR3xcs"
      },
      "execution_count": 51,
      "outputs": []
    },
    {
      "cell_type": "code",
      "source": [
        "# Function to preprocess 3d data, needed as the signs cannot be classified when they are treated as 2d images\n",
        "def preprocess_3d_data(data):\n",
        "    # Randomly crop the video.\n",
        "    crop_size = (10, 224, 224, 3)\n",
        "    data_shape = tf.shape(data)\n",
        "    data = tf.image.random_crop(data, size=(data_shape[0], crop_size[0], crop_size[1], crop_size[2], crop_size[3]))\n",
        "\n",
        "    # Randomly flip the video horizontally.\n",
        "    data = tf.map_fn(lambda x: tf.image.random_flip_left_right(x), data)\n",
        "\n",
        "    return data"
      ],
      "metadata": {
        "id": "mEGimcTk450Q"
      },
      "execution_count": 52,
      "outputs": []
    },
    {
      "cell_type": "code",
      "source": [
        "# Class for the augmentation layer later used in the EfficientNet\n",
        "class DataAugmentationLayer(Layer):\n",
        "    def __init__(self, **kwargs):\n",
        "        super(DataAugmentationLayer, self).__init__(**kwargs)\n",
        "\n",
        "    def call(self, inputs):\n",
        "        return preprocess_3d_data(inputs)"
      ],
      "metadata": {
        "id": "KZa-plOH_ZVH"
      },
      "execution_count": 90,
      "outputs": []
    },
    {
      "cell_type": "code",
      "source": [
        "# Function to create the preprocessign layer for the later created EfficientNet\n",
        "def create_preprocessing_layer(input_shape: Tuple = (10, 224, 224, 3), rescaling = True):\n",
        "    video_input = tf.keras.Input(shape=input_shape)\n",
        "    x = ZeroPadding3D(padding=((0, 0),(4,4),(4,4)))(video_input)\n",
        "    x = DataAugmentationLayer()(x)\n",
        "    if rescaling:\n",
        "      x = tf.keras.layers.Rescaling(scale=255)(x)\n",
        "    return video_input, x"
      ],
      "metadata": {
        "id": "CfygkyxQ_ZYB"
      },
      "execution_count": 91,
      "outputs": []
    },
    {
      "cell_type": "code",
      "source": [
        "# Class to transform the cut and cropped video in order to make them predictable for the recognition model\n",
        "class FrameGenerator:\n",
        "\n",
        "    def __init__(self, path, n_frames, training=False):\n",
        "\n",
        "        \"\"\"Returns a set of frames with their associated label.\n",
        "        Args:\n",
        "\n",
        "          path: Video file paths.\n",
        "\n",
        "          n_frames: Number of frames.\n",
        "\n",
        "          training: Boolean to determine if training dataset is being created.\n",
        "\n",
        "        \"\"\"\n",
        "\n",
        "        self.path = path\n",
        "\n",
        "        self.n_frames = n_frames\n",
        "\n",
        "        self.training = training\n",
        "\n",
        "        self.class_names = sorted(\n",
        "\n",
        "            set(p.name for p in self.path.iterdir() if p.is_dir())\n",
        "\n",
        "        )\n",
        "\n",
        "        self.class_ids_for_name = dict(\n",
        "\n",
        "            (name, idx) for idx, name in enumerate(self.class_names)\n",
        "\n",
        "        )\n",
        "\n",
        "    def get_files_and_class_names(self):\n",
        "\n",
        "        video_paths = list(self.path.glob(\"*/*.mp4\"))\n",
        "\n",
        "        classes = [p.parent.name for p in video_paths]\n",
        "\n",
        "        return video_paths, classes\n",
        "\n",
        "    def __call__(self):\n",
        "\n",
        "        video_paths, classes = self.get_files_and_class_names()\n",
        "\n",
        "        pairs = list(zip(video_paths, classes))\n",
        "\n",
        "        if self.training:\n",
        "\n",
        "            random.shuffle(pairs)\n",
        "\n",
        "        for path, name in pairs:\n",
        "\n",
        "            video_frames = frames_from_video_file(path, self.n_frames)\n",
        "\n",
        "            label = self.class_ids_for_name[name]  # Encode labels\n",
        "\n",
        "            yield video_frames, label, path"
      ],
      "metadata": {
        "id": "w4eU_coJ5Dh7"
      },
      "execution_count": 55,
      "outputs": []
    },
    {
      "cell_type": "code",
      "source": [
        "# Function with the labels of the ASL100 data set\n",
        "def create_class_names():\n",
        "    return ['now',\n",
        "'computer',\n",
        "'doctor',\n",
        "'walk',\n",
        "'nothing',\n",
        "'forget',\n",
        "'no',\n",
        "'chicken',\n",
        "'please',\n",
        "'write',\n",
        "'learn',\n",
        "'paper',\n",
        "'help',\n",
        "'man',\n",
        "'name',\n",
        "'play',\n",
        "'cousin',\n",
        "'spring',\n",
        "'where',\n",
        "'hearing',\n",
        "'brown',\n",
        "'black',\n",
        "'teacher',\n",
        "'how',\n",
        "'red',\n",
        "'hello',\n",
        "'right',\n",
        "'big',\n",
        "'want',\n",
        "'fish',\n",
        "'sit',\n",
        "'tired',\n",
        "'yellow',\n",
        "'live',\n",
        "'hungry',\n",
        "'table',\n",
        "'white',\n",
        "'who',\n",
        "'like',\n",
        "'grandmother',\n",
        "'work',\n",
        "'need',\n",
        "'lost',\n",
        "'you',\n",
        "'same',\n",
        "'milk',\n",
        "'sign',\n",
        "'girl',\n",
        "'brother',\n",
        "'hurt',\n",
        "'day',\n",
        "'father',\n",
        "'sick',\n",
        "'orange',\n",
        "'boy',\n",
        "'nurse',\n",
        "'bad',\n",
        "'fine',\n",
        "'english',\n",
        "'bathroom',\n",
        "'yes',\n",
        "'dance',\n",
        "'know',\n",
        "'school',\n",
        "'what',\n",
        "'mother',\n",
        "'green',\n",
        "'when',\n",
        "'nice',\n",
        "'blue',\n",
        "'student',\n",
        "'sorry',\n",
        "'night',\n",
        "'book',\n",
        "'here',\n",
        "'understand',\n",
        "'friend',\n",
        "'draw',\n",
        "'different',\n",
        "'water',\n",
        "'again',\n",
        "'france',\n",
        "'drink',\n",
        "'sad',\n",
        "'thank you',\n",
        "'finish',\n",
        "'beautiful',\n",
        "'sister',\n",
        "'read',\n",
        "'happy',\n",
        "'bird',\n",
        "'pencil',\n",
        "'grandfather',\n",
        "'woman',\n",
        "'good',\n",
        "'family',\n",
        "'eat',\n",
        "'deaf',\n",
        "'bored',\n",
        "'pink']"
      ],
      "metadata": {
        "id": "odvERvorFYKU"
      },
      "execution_count": 56,
      "outputs": []
    },
    {
      "cell_type": "code",
      "source": [
        "# Function to use the recognition model to predict labels for the cut and cropped videos\n",
        "def recognize_video_folder(video_file_path, model):\n",
        "\n",
        "    chosen_fg = FrameGenerator(pathlib.Path(video_file_path), 10, training=False)\n",
        "\n",
        "\n",
        "    labels: list = []\n",
        "\n",
        "    try:\n",
        "\n",
        "      for chosen_frames, true_label, path in chosen_fg():\n",
        "          # model prediction\n",
        "          chosen_frames_expanded = np.expand_dims(chosen_frames, axis=0)\n",
        "\n",
        "          predicted_label = np.argmax(model.predict(chosen_frames_expanded), axis=-1)\n",
        "          print(predicted_label)\n",
        "\n",
        "          # Get the true label's class name\n",
        "          true_class_name = chosen_fg.class_names[true_label]\n",
        "\n",
        "          # get the predicted labels class name\n",
        "          CLASS_NAMES = create_class_names()\n",
        "\n",
        "          predicted_class_name = CLASS_NAMES[predicted_label[0]]\n",
        "\n",
        "          labels.append({path: predicted_class_name})\n",
        "\n",
        "          print(f\"True label: {true_label} ({true_class_name})\")\n",
        "\n",
        "          print(f\"Predicted label: {predicted_label[0]} ({predicted_class_name})\")\n",
        "\n",
        "    except:\n",
        "      pass\n",
        "\n",
        "    print(labels)\n",
        "    return labels"
      ],
      "metadata": {
        "id": "1Xh5oHu6EzBS"
      },
      "execution_count": 57,
      "outputs": []
    },
    {
      "cell_type": "markdown",
      "source": [
        "### 3.1 Combining the Models"
      ],
      "metadata": {
        "id": "8i7ypTa71oPY"
      }
    },
    {
      "cell_type": "code",
      "source": [
        "# Function to create the EfficientNet used for the recognition task\n",
        "def create_efficient_net_model(base_model_trainable: bool = True, rescaling: bool = True):\n",
        "\n",
        "  net = tf.keras.applications.EfficientNetB0(include_top = False)\n",
        "  net.trainable = base_model_trainable\n",
        "\n",
        "  input_shape = (10, 224, 224, 3)\n",
        "  video_input, x = create_preprocessing_layer(input_shape, rescaling = rescaling)\n",
        "\n",
        "  x = tf.keras.layers.TimeDistributed(net)(x)\n",
        "  x = tf.keras.layers.Dense(100)(x)\n",
        "  x = tf.keras.layers.GlobalAveragePooling3D()(x)\n",
        "\n",
        "  return tf.keras.Model(inputs=video_input, outputs=x)"
      ],
      "metadata": {
        "id": "LeuYc3Kg3H-x"
      },
      "execution_count": 58,
      "outputs": []
    },
    {
      "cell_type": "code",
      "source": [
        "# Creating the recognition model\n",
        "model = create_efficient_net_model()\n",
        "\n",
        "model.compile(optimizer = 'adam',\n",
        "              loss=tf.keras.losses.SparseCategoricalCrossentropy(from_logits = True),\n",
        "              metrics=['accuracy'])"
      ],
      "metadata": {
        "id": "VuneG0Gm1ttU"
      },
      "execution_count": 89,
      "outputs": []
    },
    {
      "cell_type": "code",
      "source": [
        "# Loading the weights of the recognition model from drive\n",
        "model.load_weights(\"/content/drive/MyDrive/training_checkpoints_efficientNet/cp-0021.ckpt\")"
      ],
      "metadata": {
        "id": "Z4nwIo9t2bbg",
        "colab": {
          "base_uri": "https://localhost:8080/"
        },
        "outputId": "1e30b98b-e2bd-4412-b5db-7b82fc2d7b4e"
      },
      "execution_count": 73,
      "outputs": [
        {
          "output_type": "execute_result",
          "data": {
            "text/plain": [
              "<tensorflow.python.checkpoint.checkpoint.CheckpointLoadStatus at 0x7922ea813b50>"
            ]
          },
          "metadata": {},
          "execution_count": 73
        }
      ]
    },
    {
      "cell_type": "markdown",
      "source": [
        "### 3.2 Predicted of the combined Model"
      ],
      "metadata": {
        "id": "y4n7vFcX1t0L"
      }
    },
    {
      "cell_type": "code",
      "source": [
        "# Saving the true labels from the cut and cropped video\n",
        "true_labels = labels_from_json_1"
      ],
      "metadata": {
        "id": "xU40g5zJ8pXy"
      },
      "execution_count": 96,
      "outputs": []
    },
    {
      "cell_type": "code",
      "source": [
        "# Using the recognition model to predict on the cut and cropped videos\n",
        "predicted_labels = recognize_video_folder('/content/cropped_videos', model)"
      ],
      "metadata": {
        "id": "33oChkPI1xpR",
        "colab": {
          "base_uri": "https://localhost:8080/"
        },
        "outputId": "21052ca0-dd1e-43dd-c425-cf519d4984ca"
      },
      "execution_count": 74,
      "outputs": [
        {
          "output_type": "stream",
          "name": "stdout",
          "text": [
            "1/1 [==============================] - 0s 74ms/step\n",
            "[40]\n",
            "True label: 0 (test)\n",
            "Predicted label: 40 (work)\n",
            "1/1 [==============================] - 0s 49ms/step\n",
            "[0]\n",
            "True label: 0 (test)\n",
            "Predicted label: 0 (now)\n",
            "1/1 [==============================] - 0s 51ms/step\n",
            "[10]\n",
            "True label: 0 (test)\n",
            "Predicted label: 10 (learn)\n",
            "1/1 [==============================] - 0s 50ms/step\n",
            "[28]\n",
            "True label: 0 (test)\n",
            "Predicted label: 28 (want)\n",
            "1/1 [==============================] - 0s 61ms/step\n",
            "[53]\n",
            "True label: 0 (test)\n",
            "Predicted label: 53 (orange)\n",
            "1/1 [==============================] - 0s 53ms/step\n",
            "[40]\n",
            "True label: 0 (test)\n",
            "Predicted label: 40 (work)\n",
            "1/1 [==============================] - 0s 53ms/step\n",
            "[25]\n",
            "True label: 0 (test)\n",
            "Predicted label: 25 (hello)\n",
            "1/1 [==============================] - 0s 50ms/step\n",
            "[33]\n",
            "True label: 0 (test)\n",
            "Predicted label: 33 (live)\n",
            "1/1 [==============================] - 0s 52ms/step\n",
            "[44]\n",
            "True label: 0 (test)\n",
            "Predicted label: 44 (same)\n",
            "1/1 [==============================] - 0s 51ms/step\n",
            "[40]\n",
            "True label: 0 (test)\n",
            "Predicted label: 40 (work)\n",
            "1/1 [==============================] - 0s 50ms/step\n",
            "[40]\n",
            "True label: 0 (test)\n",
            "Predicted label: 40 (work)\n",
            "1/1 [==============================] - 0s 53ms/step\n",
            "[40]\n",
            "True label: 0 (test)\n",
            "Predicted label: 40 (work)\n",
            "1/1 [==============================] - 0s 52ms/step\n",
            "[22]\n",
            "True label: 0 (test)\n",
            "Predicted label: 22 (teacher)\n",
            "1/1 [==============================] - 0s 68ms/step\n",
            "[26]\n",
            "True label: 0 (test)\n",
            "Predicted label: 26 (right)\n",
            "1/1 [==============================] - 0s 61ms/step\n",
            "[93]\n",
            "True label: 0 (test)\n",
            "Predicted label: 93 (woman)\n",
            "1/1 [==============================] - 0s 64ms/step\n",
            "[22]\n",
            "True label: 0 (test)\n",
            "Predicted label: 22 (teacher)\n",
            "1/1 [==============================] - 0s 63ms/step\n",
            "[11]\n",
            "True label: 0 (test)\n",
            "Predicted label: 11 (paper)\n",
            "1/1 [==============================] - 0s 62ms/step\n",
            "[44]\n",
            "True label: 0 (test)\n",
            "Predicted label: 44 (same)\n",
            "1/1 [==============================] - 0s 64ms/step\n",
            "[28]\n",
            "True label: 0 (test)\n",
            "Predicted label: 28 (want)\n",
            "[{PosixPath('/content/cropped_videos/test/uE3IDWh0xnA21cropped.mp4'): 'work'}, {PosixPath('/content/cropped_videos/test/uE3IDWh0xnA22cropped.mp4'): 'now'}, {PosixPath('/content/cropped_videos/test/uE3IDWh0xnA3cropped.mp4'): 'learn'}, {PosixPath('/content/cropped_videos/test/uE3IDWh0xnA4cropped.mp4'): 'want'}, {PosixPath('/content/cropped_videos/test/uE3IDWh0xnA13cropped.mp4'): 'orange'}, {PosixPath('/content/cropped_videos/test/uE3IDWh0xnA16cropped.mp4'): 'work'}, {PosixPath('/content/cropped_videos/test/uE3IDWh0xnA5cropped.mp4'): 'hello'}, {PosixPath('/content/cropped_videos/test/uE3IDWh0xnA14cropped.mp4'): 'live'}, {PosixPath('/content/cropped_videos/test/uE3IDWh0xnA19cropped.mp4'): 'same'}, {PosixPath('/content/cropped_videos/test/uE3IDWh0xnA12cropped.mp4'): 'work'}, {PosixPath('/content/cropped_videos/test/uE3IDWh0xnA15cropped.mp4'): 'work'}, {PosixPath('/content/cropped_videos/test/uE3IDWh0xnA20cropped.mp4'): 'work'}, {PosixPath('/content/cropped_videos/test/uE3IDWh0xnA2cropped.mp4'): 'teacher'}, {PosixPath('/content/cropped_videos/test/uE3IDWh0xnA10cropped.mp4'): 'right'}, {PosixPath('/content/cropped_videos/test/uE3IDWh0xnA9cropped.mp4'): 'woman'}, {PosixPath('/content/cropped_videos/test/uE3IDWh0xnA11cropped.mp4'): 'teacher'}, {PosixPath('/content/cropped_videos/test/uE3IDWh0xnA6cropped.mp4'): 'paper'}, {PosixPath('/content/cropped_videos/test/uE3IDWh0xnA17cropped.mp4'): 'same'}, {PosixPath('/content/cropped_videos/test/uE3IDWh0xnA18cropped.mp4'): 'want'}]\n"
          ]
        }
      ]
    },
    {
      "cell_type": "code",
      "source": [
        "# Storing the predictions in a list to compare them with the true labels\n",
        "predicted_labels_list = []\n",
        "for i in predicted_labels:\n",
        "  predicted_labels_list.extend(list(i.values()))"
      ],
      "metadata": {
        "id": "2QQsRtLY2iCo"
      },
      "execution_count": 81,
      "outputs": []
    },
    {
      "cell_type": "markdown",
      "source": [
        "### 3.3 Evaluation of the combined Model"
      ],
      "metadata": {
        "id": "6DiUUbEB1xxL"
      }
    },
    {
      "cell_type": "markdown",
      "source": [
        "Nicht alle True labels sind Teil der 100 ASL Klassen auf denen trainiert wurde. Aus den True Labels befinden sich XYZ Labels in den 100 Klassen. Das führt dazu, dass..."
      ],
      "metadata": {
        "id": "PuFBkfa1GmWn"
      }
    },
    {
      "cell_type": "code",
      "source": [
        "# Printing the true labels and the predictions to show that they don´t have the same number as the start/end points are not perfectly predicted\n",
        "print('True Labels: ', len(true_labels), ' ', true_labels)\n",
        "print('Predictions: ', len(predicted_labels_list), ' ', predicted_labels_list)"
      ],
      "metadata": {
        "id": "KY10b7jU2p_s",
        "colab": {
          "base_uri": "https://localhost:8080/"
        },
        "outputId": "90226f35-f2b3-48eb-c4e3-3c084d2a5028"
      },
      "execution_count": 95,
      "outputs": [
        {
          "output_type": "stream",
          "name": "stdout",
          "text": [
            "True Labels:  12   ['weather', 'sun', 'rain', 'show', 'cold', 'cool', 'hot', 'warm', 'autumn', 'winter', 'spring', 'summer']\n",
            "Predictions:  19   ['work', 'now', 'learn', 'want', 'orange', 'work', 'hello', 'live', 'same', 'work', 'work', 'work', 'teacher', 'right', 'woman', 'teacher', 'paper', 'same', 'want']\n"
          ]
        }
      ]
    },
    {
      "cell_type": "code",
      "source": [
        "# Counting how many sign were predicted right and saving the label\n",
        "z = 0\n",
        "right_prediction = []\n",
        "\n",
        "for i in true_labels:\n",
        "  if i in predicted_labels_list:\n",
        "    z +=1\n",
        "    right_prediction.append(i)\n",
        "\n",
        "print('Number of prediction = true label: ', z)\n",
        "print('Correct predicted sign: ', right_prediction)"
      ],
      "metadata": {
        "id": "TmrsKMlx10jS",
        "colab": {
          "base_uri": "https://localhost:8080/"
        },
        "outputId": "d8f5617a-5d37-4865-e808-1995c9e39115"
      },
      "execution_count": 88,
      "outputs": [
        {
          "output_type": "stream",
          "name": "stdout",
          "text": [
            "Number of prediction = true label:  1\n",
            "Correct predicted sign:  ['woman']\n"
          ]
        }
      ]
    }
  ]
}